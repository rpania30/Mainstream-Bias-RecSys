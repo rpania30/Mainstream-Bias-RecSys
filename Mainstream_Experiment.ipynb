{
 "cells": [
  {
   "cell_type": "markdown",
   "metadata": {},
   "source": [
    "Mainstream Bias in Dynamic Recommendation"
   ]
  },
  {
   "cell_type": "code",
   "execution_count": 21,
   "metadata": {},
   "outputs": [],
   "source": [
    "# Import dependencies\n",
    "import os\n",
    "os.environ['TF_CPP_MIN_LOG_LEVEL'] = '3'  # Suppress TensorFlow logs\n",
    "import warnings; warnings.simplefilter('ignore')  # Ignore warnings for cleaner output\n",
    "# import time\n",
    "import numpy as np\n",
    "import argparse\n",
    "# import utility\n",
    "from Simulation_basic import Simulation\n",
    "import pickle\n",
    "import pandas as pd\n",
    "# from tqdm import tqdm\n",
    "from math import log\n",
    "from scipy.sparse import coo_matrix\n",
    "# import seaborn as sns\n",
    "import matplotlib.pyplot as plt\n",
    "# from scipy.stats import skew\n",
    "# from scipy.stats import mode\n",
    "# from sklearn.neighbors import LocalOutlierFactor"
   ]
  },
  {
   "cell_type": "code",
   "execution_count": 22,
   "metadata": {},
   "outputs": [],
   "source": [
    "# Parse command-line arguments\n",
    "# args = parser.parse_args()\n",
    "\n",
    "# Define the default values for arguments\n",
    "default_args = {\n",
    "    'run': 1,\n",
    "    'iteration': 1000,\n",
    "    'exp': 1,\n",
    "    'cycle_itr': 50,\n",
    "    'epoch': 20,\n",
    "    'K': 20,\n",
    "    'lr': 0.001,\n",
    "    'reg': 1e-5,\n",
    "    'hidden': 100,\n",
    "    'neg': 5,\n",
    "    'data': 'ml1m'\n",
    "}\n",
    "\n",
    "# Create the args object with default values\n",
    "args = argparse.Namespace(**default_args)"
   ]
  },
  {
   "cell_type": "code",
   "execution_count": 31,
   "metadata": {},
   "outputs": [
    {
     "name": "stdout",
     "output_type": "stream",
     "text": [
      "Number of Items: 223869\n",
      "\n"
     ]
    }
   ],
   "source": [
    "# Load truth data and set experiment parameters\n",
    "truth = np.load('./Data/' + args.data + '/truth.npy')\n",
    "args.num_user = truth.shape[0]\n",
    "args.num_item = truth.shape[1]\n",
    "audience_size = np.sum(truth, axis=0)\n",
    "item_sorted = np.argsort(audience_size)\n",
    "truth_like = np.load('./Data/' + args.data + '/user_truth_like.npy', allow_pickle=True)\n",
    "\n",
    "print(\"Number of Items: \" + str(len(truth_like)) + \"\\n\")"
   ]
  },
  {
   "cell_type": "code",
   "execution_count": 35,
   "metadata": {},
   "outputs": [
    {
     "name": "stdout",
     "output_type": "stream",
     "text": [
      "Mainstream scores: 1000\n",
      "\n",
      "Args Number of Users: 1000\n",
      "\n"
     ]
    }
   ],
   "source": [
    "# # Calculate mainstream scores (MS_similarity) using your code\n",
    "# train_df = pd.read_csv('./Data/' + args.data + '/train_df.csv')\n",
    "\n",
    "# # Calculate user popularity\n",
    "# pos_user_array = train_df['userId'].values\n",
    "# pos_item_array = train_df['itemId'].values\n",
    "# train_mat = coo_matrix((np.ones(len(pos_user_array)), (pos_user_array, pos_item_array)), shape=(num_user, num_item)).toarray()\n",
    "# user_pop = np.sum(train_mat, axis=1)\n",
    "\n",
    "# # Calculate standard deviation of user interactions\n",
    "# user_stddev = np.std(train_mat, axis=1)\n",
    "\n",
    "# # Save the user standard deviations to a file (adjust the path accordingly)\n",
    "# with open(f'./Data/{args.data}/user_stddev.npy', \"wb\") as f:\n",
    "#     np.save(f, user_stddev)\n",
    "\n",
    "# # Calculate Jaccard similarity matrix\n",
    "# Jaccard_mat = np.matmul(train_mat, train_mat.T)\n",
    "# deno = user_pop.reshape((-1, 1)) + user_pop.reshape((1, -1)) - Jaccard_mat + 1e-7\n",
    "# Jaccard_mat /= deno\n",
    "# Jaccard_mat = Jaccard_mat + np.eye(num_user) * -9999\n",
    "# Jaccard_mat = Jaccard_mat[np.where(Jaccard_mat > -1)].reshape((num_user, num_user - 1))\n",
    "\n",
    "# # Calculate Mainstream Similarity (MS_similarity) by taking the mean along axis 1\n",
    "# MS_similarity = np.mean(Jaccard_mat, axis=1)\n",
    "\n",
    "# # Save the MS similarity to a file (adjust the path accordingly)\n",
    "# with open(f'./Data/{args.data}/MS_similarity.npy', \"wb\") as f:\n",
    "#     np.save(f, MS_similarity)\n",
    "\n",
    "\n",
    "# Since we're not using train_df, let's create a user-item matrix from truth\n",
    "user_item_matrix = truth.copy()  # Assuming truth already represents user-item interactions\n",
    "\n",
    "# Calculate user popularity based on the user-item matrix\n",
    "user_pop = np.sum(user_item_matrix, axis=1)\n",
    "\n",
    "# Calculate Jaccard similarity matrix based on the user-item matrix\n",
    "Jaccard_mat = np.matmul(user_item_matrix, user_item_matrix.T)\n",
    "deno = user_pop.reshape((-1, 1)) + user_pop.reshape((1, -1)) - Jaccard_mat + 1e-7\n",
    "Jaccard_mat /= deno\n",
    "np.fill_diagonal(Jaccard_mat, 0)  # Set diagonal to zero to exclude self-similarity\n",
    "\n",
    "# Calculate Mainstream Similarity (MS_similarity) by taking the mean along axis 1\n",
    "MS_similarity = np.mean(Jaccard_mat, axis=1)\n",
    "\n",
    "# Save the MS similarity to a file (adjust the path accordingly)\n",
    "with open(f'./Data/{args.data}/MS_similarity.npy', \"wb\") as f:\n",
    "    np.save(f, MS_similarity)\n",
    "\n",
    "print(\"Mainstream scores: \" + str(len(MS_similarity)) + \"\\n\")\n",
    "print(\"Args Number of Users: \" + str(args.num_user) + \"\\n\")"
   ]
  },
  {
   "cell_type": "code",
   "execution_count": 40,
   "metadata": {},
   "outputs": [
    {
     "name": "stdout",
     "output_type": "stream",
     "text": [
      "\n",
      "####################################################################################################\n",
      "####################################################################################################\n",
      "                                                   Experiment run 1                                                  \n",
      "####################################################################################################\n",
      "####################################################################################################\n",
      "Namespace(K=20, cycle_itr=50, data='ml1m', epoch=20, exp=1, hidden=100, iteration=1000, lr=0.001, neg=5, num_item=3406, num_user=1000, reg=1e-05, run=1)\n",
      "****************************** Start initial random iterations ******************************\n",
      "---------- Iteration 1 ----------\n"
     ]
    },
    {
     "name": "stderr",
     "output_type": "stream",
     "text": [
      "100%|██████████| 1000/1000 [00:00<00:00, 6601.18it/s]"
     ]
    },
    {
     "name": "stdout",
     "output_type": "stream",
     "text": [
      "!!!!!!!!!!!!!!!!!!!!!!!!!!!!!!!!!!!!!!!!!!!!!!!!!!!!!!!!!!!!!!!!!!!!!!!!!!!!!!!!!!!!!!!!!!!!!!!!!!!!\n",
      "Generate 463 records.\n",
      "!!!!!!!!!!!!!!!!!!!!!!!!!!!!!!!!!!!!!!!!!!!!!!!!!!!!!!!!!!!!!!!!!!!!!!!!!!!!!!!!!!!!!!!!!!!!!!!!!!!!\n",
      "****************************** Train MF until converge ******************************\n",
      "Update bs to 55\n"
     ]
    },
    {
     "name": "stderr",
     "output_type": "stream",
     "text": [
      "\n"
     ]
    },
    {
     "name": "stdout",
     "output_type": "stream",
     "text": [
      "******************************MF initialization done ******************************\n"
     ]
    },
    {
     "name": "stderr",
     "output_type": "stream",
     "text": [
      "100%|██████████| 51/51 [00:00<00:00, 99.03it/s] \n"
     ]
    },
    {
     "name": "stdout",
     "output_type": "stream",
     "text": [
      "Training // Epoch 0 //  Total cost = 35.3854  Total cost1 = 35.3450  Total cost2 = 0.0404\n"
     ]
    },
    {
     "name": "stderr",
     "output_type": "stream",
     "text": [
      "100%|██████████| 51/51 [00:00<00:00, 134.74it/s]\n"
     ]
    },
    {
     "name": "stdout",
     "output_type": "stream",
     "text": [
      "Training // Epoch 1 //  Total cost = 35.0200  Total cost1 = 34.9930  Total cost2 = 0.0270\n"
     ]
    },
    {
     "name": "stderr",
     "output_type": "stream",
     "text": [
      "100%|██████████| 51/51 [00:00<00:00, 154.08it/s]\n"
     ]
    },
    {
     "name": "stdout",
     "output_type": "stream",
     "text": [
      "Training // Epoch 2 //  Total cost = 34.4976  Total cost1 = 34.4632  Total cost2 = 0.0344\n"
     ]
    },
    {
     "name": "stderr",
     "output_type": "stream",
     "text": [
      "100%|██████████| 51/51 [00:00<00:00, 141.86it/s]\n"
     ]
    },
    {
     "name": "stdout",
     "output_type": "stream",
     "text": [
      "Training // Epoch 3 //  Total cost = 33.6552  Total cost1 = 33.6073  Total cost2 = 0.0479\n"
     ]
    },
    {
     "name": "stderr",
     "output_type": "stream",
     "text": [
      "100%|██████████| 51/51 [00:00<00:00, 123.19it/s]\n"
     ]
    },
    {
     "name": "stdout",
     "output_type": "stream",
     "text": [
      "Training // Epoch 4 //  Total cost = 32.3739  Total cost1 = 32.3067  Total cost2 = 0.0673\n"
     ]
    },
    {
     "name": "stderr",
     "output_type": "stream",
     "text": [
      "100%|██████████| 51/51 [00:00<00:00, 150.22it/s]\n"
     ]
    },
    {
     "name": "stdout",
     "output_type": "stream",
     "text": [
      "Training // Epoch 5 //  Total cost = 30.5303  Total cost1 = 30.4357  Total cost2 = 0.0945\n"
     ]
    },
    {
     "name": "stderr",
     "output_type": "stream",
     "text": [
      "100%|██████████| 51/51 [00:00<00:00, 152.47it/s]\n"
     ]
    },
    {
     "name": "stdout",
     "output_type": "stream",
     "text": [
      "Training // Epoch 6 //  Total cost = 27.9861  Total cost1 = 27.8565  Total cost2 = 0.1296\n"
     ]
    },
    {
     "name": "stderr",
     "output_type": "stream",
     "text": [
      "100%|██████████| 51/51 [00:00<00:00, 155.72it/s]\n"
     ]
    },
    {
     "name": "stdout",
     "output_type": "stream",
     "text": [
      "Training // Epoch 7 //  Total cost = 24.9615  Total cost1 = 24.7888  Total cost2 = 0.1726\n"
     ]
    },
    {
     "name": "stderr",
     "output_type": "stream",
     "text": [
      "100%|██████████| 51/51 [00:00<00:00, 159.38it/s]\n"
     ]
    },
    {
     "name": "stdout",
     "output_type": "stream",
     "text": [
      "Training // Epoch 8 //  Total cost = 21.2293  Total cost1 = 21.0060  Total cost2 = 0.2233\n"
     ]
    },
    {
     "name": "stderr",
     "output_type": "stream",
     "text": [
      "100%|██████████| 51/51 [00:00<00:00, 139.15it/s]\n"
     ]
    },
    {
     "name": "stdout",
     "output_type": "stream",
     "text": [
      "Training // Epoch 9 //  Total cost = 16.9608  Total cost1 = 16.6784  Total cost2 = 0.2824\n"
     ]
    },
    {
     "name": "stderr",
     "output_type": "stream",
     "text": [
      "100%|██████████| 51/51 [00:00<00:00, 127.98it/s]\n"
     ]
    },
    {
     "name": "stdout",
     "output_type": "stream",
     "text": [
      "Training // Epoch 10 //  Total cost = 12.1784  Total cost1 = 11.8312  Total cost2 = 0.3472\n"
     ]
    },
    {
     "name": "stderr",
     "output_type": "stream",
     "text": [
      "100%|██████████| 51/51 [00:00<00:00, 138.97it/s]\n"
     ]
    },
    {
     "name": "stdout",
     "output_type": "stream",
     "text": [
      "Training // Epoch 11 //  Total cost = 6.8911  Total cost1 = 6.4701  Total cost2 = 0.4210\n"
     ]
    },
    {
     "name": "stderr",
     "output_type": "stream",
     "text": [
      "100%|██████████| 51/51 [00:00<00:00, 112.58it/s]\n"
     ]
    },
    {
     "name": "stdout",
     "output_type": "stream",
     "text": [
      "Training // Epoch 12 //  Total cost = 1.2068  Total cost1 = 0.7042  Total cost2 = 0.5026\n"
     ]
    },
    {
     "name": "stderr",
     "output_type": "stream",
     "text": [
      "100%|██████████| 51/51 [00:00<00:00, 139.34it/s]\n"
     ]
    },
    {
     "name": "stdout",
     "output_type": "stream",
     "text": [
      "Training // Epoch 13 //  Total cost = -4.8566  Total cost1 = -5.4465  Total cost2 = 0.5899\n"
     ]
    },
    {
     "name": "stderr",
     "output_type": "stream",
     "text": [
      "100%|██████████| 51/51 [00:00<00:00, 153.15it/s]\n"
     ]
    },
    {
     "name": "stdout",
     "output_type": "stream",
     "text": [
      "Training // Epoch 14 //  Total cost = -11.3488  Total cost1 = -12.0338  Total cost2 = 0.6850\n"
     ]
    },
    {
     "name": "stderr",
     "output_type": "stream",
     "text": [
      "100%|██████████| 51/51 [00:00<00:00, 160.13it/s]\n"
     ]
    },
    {
     "name": "stdout",
     "output_type": "stream",
     "text": [
      "Training // Epoch 15 //  Total cost = -18.3846  Total cost1 = -19.1712  Total cost2 = 0.7866\n"
     ]
    },
    {
     "name": "stderr",
     "output_type": "stream",
     "text": [
      "100%|██████████| 51/51 [00:00<00:00, 163.72it/s]\n"
     ]
    },
    {
     "name": "stdout",
     "output_type": "stream",
     "text": [
      "Training // Epoch 16 //  Total cost = -25.9405  Total cost1 = -26.8339  Total cost2 = 0.8935\n"
     ]
    },
    {
     "name": "stderr",
     "output_type": "stream",
     "text": [
      "100%|██████████| 51/51 [00:00<00:00, 138.02it/s]\n"
     ]
    },
    {
     "name": "stdout",
     "output_type": "stream",
     "text": [
      "Training // Epoch 17 //  Total cost = -34.3392  Total cost1 = -35.3478  Total cost2 = 1.0086\n"
     ]
    },
    {
     "name": "stderr",
     "output_type": "stream",
     "text": [
      "100%|██████████| 51/51 [00:00<00:00, 136.18it/s]\n"
     ]
    },
    {
     "name": "stdout",
     "output_type": "stream",
     "text": [
      "Training // Epoch 18 //  Total cost = -41.4635  Total cost1 = -42.5930  Total cost2 = 1.1295\n"
     ]
    },
    {
     "name": "stderr",
     "output_type": "stream",
     "text": [
      "100%|██████████| 51/51 [00:00<00:00, 138.96it/s]\n"
     ]
    },
    {
     "name": "stdout",
     "output_type": "stream",
     "text": [
      "Training // Epoch 19 //  Total cost = -50.1669  Total cost1 = -51.4228  Total cost2 = 1.2559\n",
      "****************************** Start simulation ******************************\n",
      "****************************** Epoch 0 ******************************\n"
     ]
    },
    {
     "name": "stderr",
     "output_type": "stream",
     "text": [
      "100%|██████████| 50/50 [00:00<00:00, 4545.09it/s]\n",
      "100%|██████████| 50/50 [00:00<00:00, 2500.03it/s]\n",
      "100%|██████████| 50/50 [00:00<00:00, 2940.98it/s]\n",
      "100%|██████████| 50/50 [00:00<00:00, 3030.48it/s]\n",
      "100%|██████████| 50/50 [00:00<00:00, 2439.14it/s]\n",
      "100%|██████████| 50/50 [00:00<00:00, 3125.55it/s]\n",
      "100%|██████████| 50/50 [00:00<00:00, 2777.76it/s]\n",
      "100%|██████████| 50/50 [00:00<00:00, 819.69it/s]\n",
      "100%|██████████| 50/50 [00:00<00:00, 1886.84it/s]\n",
      "100%|██████████| 50/50 [00:00<00:00, 2702.62it/s]\n",
      "100%|██████████| 50/50 [00:00<00:00, 2222.10it/s]\n",
      "100%|██████████| 50/50 [00:00<00:00, 3703.58it/s]\n",
      "100%|██████████| 50/50 [00:00<00:00, 3333.47it/s]\n",
      "100%|██████████| 50/50 [00:00<00:00, 4000.52it/s]\n",
      "100%|██████████| 50/50 [00:00<00:00, 3846.08it/s]\n",
      "100%|██████████| 50/50 [00:00<00:00, 3333.63it/s]\n",
      "100%|██████████| 50/50 [00:00<00:00, 3225.69it/s]\n",
      "100%|██████████| 50/50 [00:00<00:00, 3124.95it/s]\n",
      "100%|██████████| 50/50 [00:00<00:00, 3333.79it/s]\n",
      "100%|██████████| 50/50 [00:00<00:00, 3333.26it/s]\n"
     ]
    },
    {
     "ename": "UFuncTypeError",
     "evalue": "ufunc 'add' did not contain a loop with signature matching types (dtype('<U2'), dtype('float64')) -> None",
     "output_type": "error",
     "traceback": [
      "\u001b[1;31m---------------------------------------------------------------------------\u001b[0m",
      "\u001b[1;31mUFuncTypeError\u001b[0m                            Traceback (most recent call last)",
      "\u001b[1;32m~\\AppData\\Local\\Temp\\ipykernel_21032\\1424224830.py\u001b[0m in \u001b[0;36m<module>\u001b[1;34m\u001b[0m\n\u001b[0;32m     14\u001b[0m     \u001b[0msimulation\u001b[0m \u001b[1;33m=\u001b[0m \u001b[0mSimulation\u001b[0m\u001b[1;33m(\u001b[0m\u001b[0margs\u001b[0m\u001b[1;33m,\u001b[0m \u001b[0mtruth\u001b[0m\u001b[1;33m,\u001b[0m \u001b[0mtruth_like\u001b[0m\u001b[1;33m)\u001b[0m\u001b[1;33m\u001b[0m\u001b[1;33m\u001b[0m\u001b[0m\n\u001b[0;32m     15\u001b[0m     \u001b[0minit_popularity\u001b[0m \u001b[1;33m=\u001b[0m \u001b[0msimulation\u001b[0m\u001b[1;33m.\u001b[0m\u001b[0minitial_iterations\u001b[0m\u001b[1;33m(\u001b[0m\u001b[1;33m)\u001b[0m  \u001b[1;31m# Perform initial iterations to gather feedback\u001b[0m\u001b[1;33m\u001b[0m\u001b[1;33m\u001b[0m\u001b[0m\n\u001b[1;32m---> 16\u001b[1;33m     \u001b[0mgini_coefficients\u001b[0m\u001b[1;33m.\u001b[0m\u001b[0mappend\u001b[0m\u001b[1;33m(\u001b[0m\u001b[0msimulation\u001b[0m\u001b[1;33m.\u001b[0m\u001b[0mrun_simulation\u001b[0m\u001b[1;33m(\u001b[0m\u001b[1;33m)\u001b[0m\u001b[1;33m)\u001b[0m  \u001b[1;31m# Run the main simulation\u001b[0m\u001b[1;33m\u001b[0m\u001b[1;33m\u001b[0m\u001b[0m\n\u001b[0m",
      "\u001b[1;32md:\\Academic&Work\\College\\ML\\Mainstream-Bias-RecSys\\Simulation_basic.py\u001b[0m in \u001b[0;36mrun_simulation\u001b[1;34m(self)\u001b[0m\n\u001b[0;32m    185\u001b[0m             \u001b[0mprint\u001b[0m\u001b[1;33m(\u001b[0m\u001b[0muser_TPR\u001b[0m\u001b[1;33m.\u001b[0m\u001b[0mdtype\u001b[0m\u001b[1;33m,\u001b[0m \u001b[0msorted_indices\u001b[0m\u001b[1;33m.\u001b[0m\u001b[0mdtype\u001b[0m\u001b[1;33m)\u001b[0m\u001b[1;33m\u001b[0m\u001b[1;33m\u001b[0m\u001b[0m\n\u001b[0;32m    186\u001b[0m \u001b[1;33m\u001b[0m\u001b[0m\n\u001b[1;32m--> 187\u001b[1;33m \u001b[1;33m\u001b[0m\u001b[0m\n\u001b[0m\u001b[0;32m    188\u001b[0m \u001b[1;33m\u001b[0m\u001b[0m\n\u001b[0;32m    189\u001b[0m             \u001b[0ma\u001b[0m \u001b[1;33m=\u001b[0m \u001b[0muser_TPR\u001b[0m\u001b[1;33m[\u001b[0m\u001b[0msorted_indices\u001b[0m\u001b[1;33m]\u001b[0m\u001b[1;33m\u001b[0m\u001b[1;33m\u001b[0m\u001b[0m\n",
      "\u001b[1;31mUFuncTypeError\u001b[0m: ufunc 'add' did not contain a loop with signature matching types (dtype('<U2'), dtype('float64')) -> None"
     ]
    }
   ],
   "source": [
    "# Initialize a list to store Gini coefficients after each epoch\n",
    "gini_coefficients = []\n",
    "\n",
    "# Run the experiment for a specified number of runs\n",
    "for r in range(args.run):\n",
    "    print('')\n",
    "    print('#' * 100)\n",
    "    print('#' * 100)\n",
    "    print(' ' * 50 + ' Experiment run ' + str(r + 1) + ' ' * 50)\n",
    "    print('#' * 100)\n",
    "    print('#' * 100)\n",
    "\n",
    "    # Initialize the simulation with provided arguments and data\n",
    "    simulation = Simulation(args, truth, truth_like)\n",
    "    init_popularity = simulation.initial_iterations()  # Perform initial iterations to gather feedback\n",
    "    gini_coefficients.append(simulation.run_simulation())  # Run the main simulation"
   ]
  },
  {
   "cell_type": "code",
   "execution_count": null,
   "metadata": {},
   "outputs": [
    {
     "name": "stdout",
     "output_type": "stream",
     "text": [
      "[]\n"
     ]
    },
    {
     "ename": "TypeError",
     "evalue": "object of type 'numpy.float64' has no len()",
     "output_type": "error",
     "traceback": [
      "\u001b[1;31m---------------------------------------------------------------------------\u001b[0m",
      "\u001b[1;31mTypeError\u001b[0m                                 Traceback (most recent call last)",
      "\u001b[1;32m~\\AppData\\Local\\Temp\\ipykernel_16060\\2288926882.py\u001b[0m in \u001b[0;36m<module>\u001b[1;34m\u001b[0m\n\u001b[0;32m      5\u001b[0m \u001b[1;31m# Visualize the averaged Gini coefficients\u001b[0m\u001b[1;33m\u001b[0m\u001b[1;33m\u001b[0m\u001b[1;33m\u001b[0m\u001b[0m\n\u001b[0;32m      6\u001b[0m \u001b[0mplt\u001b[0m\u001b[1;33m.\u001b[0m\u001b[0mfigure\u001b[0m\u001b[1;33m(\u001b[0m\u001b[0mfigsize\u001b[0m\u001b[1;33m=\u001b[0m\u001b[1;33m(\u001b[0m\u001b[1;36m10\u001b[0m\u001b[1;33m,\u001b[0m \u001b[1;36m6\u001b[0m\u001b[1;33m)\u001b[0m\u001b[1;33m)\u001b[0m\u001b[1;33m\u001b[0m\u001b[1;33m\u001b[0m\u001b[0m\n\u001b[1;32m----> 7\u001b[1;33m \u001b[0mx_values\u001b[0m \u001b[1;33m=\u001b[0m \u001b[0mrange\u001b[0m\u001b[1;33m(\u001b[0m\u001b[0mlen\u001b[0m\u001b[1;33m(\u001b[0m\u001b[0maverage_gini_coefficients\u001b[0m\u001b[1;33m)\u001b[0m\u001b[1;33m)\u001b[0m\u001b[1;33m\u001b[0m\u001b[1;33m\u001b[0m\u001b[0m\n\u001b[0m\u001b[0;32m      8\u001b[0m \u001b[0mplt\u001b[0m\u001b[1;33m.\u001b[0m\u001b[0mplot\u001b[0m\u001b[1;33m(\u001b[0m\u001b[0mx_values\u001b[0m\u001b[1;33m,\u001b[0m \u001b[0maverage_gini_coefficients\u001b[0m\u001b[1;33m,\u001b[0m \u001b[0mmarker\u001b[0m\u001b[1;33m=\u001b[0m\u001b[1;34m'o'\u001b[0m\u001b[1;33m,\u001b[0m \u001b[0mlinestyle\u001b[0m\u001b[1;33m=\u001b[0m\u001b[1;34m'-'\u001b[0m\u001b[1;33m,\u001b[0m \u001b[0mcolor\u001b[0m\u001b[1;33m=\u001b[0m\u001b[1;34m'b'\u001b[0m\u001b[1;33m)\u001b[0m\u001b[1;33m\u001b[0m\u001b[1;33m\u001b[0m\u001b[0m\n\u001b[0;32m      9\u001b[0m \u001b[0mplt\u001b[0m\u001b[1;33m.\u001b[0m\u001b[0mtitle\u001b[0m\u001b[1;33m(\u001b[0m\u001b[1;34m'Average Gini Coefficients Over Epochs'\u001b[0m\u001b[1;33m)\u001b[0m\u001b[1;33m\u001b[0m\u001b[1;33m\u001b[0m\u001b[0m\n",
      "\u001b[1;31mTypeError\u001b[0m: object of type 'numpy.float64' has no len()"
     ]
    },
    {
     "data": {
      "text/plain": [
       "<Figure size 1000x600 with 0 Axes>"
      ]
     },
     "metadata": {},
     "output_type": "display_data"
    }
   ],
   "source": [
    "# Calculate the average of each corresponding element across lists\n",
    "print(gini_coefficients)\n",
    "average_gini_coefficients = np.mean(np.array(gini_coefficients), axis=0)\n",
    "\n",
    "# Visualize the averaged Gini coefficients\n",
    "plt.figure(figsize=(10, 6))\n",
    "x_values = range(len(average_gini_coefficients))\n",
    "plt.plot(x_values, average_gini_coefficients, marker='o', linestyle='-', color='b')\n",
    "plt.title('Average Gini Coefficients Over Epochs')\n",
    "plt.xlabel('Epoch')\n",
    "plt.ylabel('Average Gini Coefficient')\n",
    "plt.grid(True)\n",
    "print(average_gini_coefficients)\n",
    "plt.show()"
   ]
  }
 ],
 "metadata": {
  "kernelspec": {
   "display_name": "Python 3",
   "language": "python",
   "name": "python3"
  },
  "language_info": {
   "codemirror_mode": {
    "name": "ipython",
    "version": 3
   },
   "file_extension": ".py",
   "mimetype": "text/x-python",
   "name": "python",
   "nbconvert_exporter": "python",
   "pygments_lexer": "ipython3",
   "version": "3.7.16"
  }
 },
 "nbformat": 4,
 "nbformat_minor": 4
}
