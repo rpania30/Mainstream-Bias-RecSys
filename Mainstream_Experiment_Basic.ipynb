{
 "cells": [
  {
   "cell_type": "markdown",
   "metadata": {},
   "source": [
    "Mainstream Bias in Dynamic Recommendation"
   ]
  },
  {
   "cell_type": "code",
   "execution_count": 1,
   "metadata": {},
   "outputs": [],
   "source": [
    "# Import dependencies\n",
    "import os\n",
    "os.environ['TF_CPP_MIN_LOG_LEVEL'] = '3'  # Suppress TensorFlow logs\n",
    "import warnings; warnings.simplefilter('ignore')  # Ignore warnings for cleaner output\n",
    "# import time\n",
    "import numpy as np\n",
    "import argparse\n",
    "# import utility\n",
    "from Simulation_basic import Simulation\n",
    "import pickle\n",
    "import pandas as pd\n",
    "# from tqdm import tqdm\n",
    "from math import log\n",
    "from scipy.sparse import coo_matrix\n",
    "# import seaborn as sns\n",
    "import matplotlib.pyplot as plt\n",
    "# from scipy.stats import skew\n",
    "# from scipy.stats import mode\n",
    "# from sklearn.neighbors import LocalOutlierFactor"
   ]
  },
  {
   "cell_type": "code",
   "execution_count": 2,
   "metadata": {},
   "outputs": [],
   "source": [
    "# Parse command-line arguments\n",
    "# args = parser.parse_args()\n",
    "\n",
    "# Define the default values for arguments\n",
    "default_args = {\n",
    "    'run': 1,\n",
    "    'iteration': 1000,\n",
    "    'exp': 1,\n",
    "    'cycle_itr': 50,\n",
    "    'epoch': 20,\n",
    "    'K': 20,\n",
    "    'lr': 0.001,\n",
    "    'reg': 1e-5,\n",
    "    'hidden': 100,\n",
    "    'neg': 5,\n",
    "    'data': 'ml1m'\n",
    "}\n",
    "\n",
    "# Create the args object with default values\n",
    "args = argparse.Namespace(**default_args)"
   ]
  },
  {
   "cell_type": "code",
   "execution_count": 3,
   "metadata": {},
   "outputs": [
    {
     "name": "stdout",
     "output_type": "stream",
     "text": [
      "Number of Items: 223869\n",
      "\n"
     ]
    }
   ],
   "source": [
    "# Load truth data and set experiment parameters\n",
    "truth = np.load('./Data/' + args.data + '/truth.npy')\n",
    "args.num_user = truth.shape[0]\n",
    "args.num_item = truth.shape[1]\n",
    "audience_size = np.sum(truth, axis=0)\n",
    "item_sorted = np.argsort(audience_size)\n",
    "truth_like = np.load('./Data/' + args.data + '/user_truth_like.npy', allow_pickle=True)\n",
    "\n",
    "print(\"Number of Items: \" + str(len(truth_like)) + \"\\n\")"
   ]
  },
  {
   "cell_type": "code",
   "execution_count": 4,
   "metadata": {},
   "outputs": [
    {
     "name": "stdout",
     "output_type": "stream",
     "text": [
      "Mainstream scores: 1000\n",
      "\n",
      "Args Number of Users: 1000\n",
      "\n"
     ]
    }
   ],
   "source": [
    "# # Calculate mainstream scores (MS_similarity) using your code\n",
    "user_item_matrix = truth.copy()  # Assuming truth already represents user-item interactions\n",
    "\n",
    "# Calculate user popularity based on the user-item matrix\n",
    "user_pop = np.sum(user_item_matrix, axis=1)\n",
    "\n",
    "# Calculate Jaccard similarity matrix based on the user-item matrix\n",
    "Jaccard_mat = np.matmul(user_item_matrix, user_item_matrix.T)\n",
    "deno = user_pop.reshape((-1, 1)) + user_pop.reshape((1, -1)) - Jaccard_mat + 1e-7\n",
    "Jaccard_mat /= deno\n",
    "np.fill_diagonal(Jaccard_mat, 0)  # Set diagonal to zero to exclude self-similarity\n",
    "\n",
    "# Calculate Mainstream Similarity (MS_similarity) by taking the mean along axis 1\n",
    "MS_similarity = np.mean(Jaccard_mat, axis=1)\n",
    "\n",
    "# Save the MS similarity to a file (adjust the path accordingly)\n",
    "with open(f'./Data/{args.data}/MS_similarity.npy', \"wb\") as f:\n",
    "    np.save(f, MS_similarity)\n",
    "\n",
    "print(\"Mainstream scores: \" + str(len(MS_similarity)) + \"\\n\")\n",
    "print(\"Args Number of Users: \" + str(args.num_user) + \"\\n\")"
   ]
  },
  {
   "cell_type": "code",
   "execution_count": 5,
   "metadata": {},
   "outputs": [
    {
     "name": "stdout",
     "output_type": "stream",
     "text": [
      "\n",
      "####################################################################################################\n",
      "####################################################################################################\n",
      "                                                   Experiment run 1                                                  \n",
      "####################################################################################################\n",
      "####################################################################################################\n",
      "Namespace(K=20, cycle_itr=50, data='ml1m', epoch=20, exp=1, hidden=100, iteration=1000, lr=0.001, neg=5, num_item=3406, num_user=1000, reg=1e-05, run=1)\n",
      "****************************** Start initial random iterations ******************************\n",
      "---------- Iteration 1 ----------\n"
     ]
    },
    {
     "name": "stderr",
     "output_type": "stream",
     "text": [
      "  0%|          | 0/1000 [00:00<?, ?it/s]"
     ]
    },
    {
     "name": "stderr",
     "output_type": "stream",
     "text": [
      "100%|██████████| 1000/1000 [00:00<00:00, 3577.39it/s]"
     ]
    },
    {
     "name": "stdout",
     "output_type": "stream",
     "text": [
      "!!!!!!!!!!!!!!!!!!!!!!!!!!!!!!!!!!!!!!!!!!!!!!!!!!!!!!!!!!!!!!!!!!!!!!!!!!!!!!!!!!!!!!!!!!!!!!!!!!!!\n",
      "Generate 471 records.\n",
      "!!!!!!!!!!!!!!!!!!!!!!!!!!!!!!!!!!!!!!!!!!!!!!!!!!!!!!!!!!!!!!!!!!!!!!!!!!!!!!!!!!!!!!!!!!!!!!!!!!!!\n",
      "****************************** Train MF until converge ******************************\n",
      "Update bs to 56\n",
      "WARNING:tensorflow:From d:\\Academic&Work\\College\\ML\\Mainstream-Bias-RecSys\\MF.py:17: The name tf.Session is deprecated. Please use tf.compat.v1.Session instead.\n",
      "\n",
      "WARNING:tensorflow:From d:\\Academic&Work\\College\\ML\\Mainstream-Bias-RecSys\\MF.py:34: The name tf.placeholder is deprecated. Please use tf.compat.v1.placeholder instead.\n",
      "\n",
      "WARNING:tensorflow:From d:\\Academic&Work\\College\\ML\\Mainstream-Bias-RecSys\\MF.py:39: The name tf.variable_scope is deprecated. Please use tf.compat.v1.variable_scope instead.\n",
      "\n",
      "WARNING:tensorflow:From d:\\Academic&Work\\College\\ML\\Mainstream-Bias-RecSys\\MF.py:39: The name tf.AUTO_REUSE is deprecated. Please use tf.compat.v1.AUTO_REUSE instead.\n",
      "\n",
      "WARNING:tensorflow:From d:\\Academic&Work\\College\\ML\\Mainstream-Bias-RecSys\\MF.py:40: The name tf.get_variable is deprecated. Please use tf.compat.v1.get_variable instead.\n",
      "\n",
      "WARNING:tensorflow:From d:\\Academic&Work\\College\\ML\\Mainstream-Bias-RecSys\\MF.py:66: The name tf.train.AdamOptimizer is deprecated. Please use tf.compat.v1.train.AdamOptimizer instead.\n",
      "\n"
     ]
    },
    {
     "name": "stderr",
     "output_type": "stream",
     "text": [
      "\n"
     ]
    },
    {
     "name": "stdout",
     "output_type": "stream",
     "text": [
      "WARNING:tensorflow:From c:\\Users\\Owner\\anaconda3\\envs\\cs498\\lib\\site-packages\\tensorflow\\python\\ops\\math_grad.py:1250: add_dispatch_support.<locals>.wrapper (from tensorflow.python.ops.array_ops) is deprecated and will be removed in a future version.\n",
      "Instructions for updating:\n",
      "Use tf.where in 2.0, which has the same broadcast rule as np.where\n",
      "******************************MF initialization done ******************************\n"
     ]
    },
    {
     "name": "stderr",
     "output_type": "stream",
     "text": [
      "100%|██████████| 50/50 [00:00<00:00, 116.01it/s]\n"
     ]
    },
    {
     "name": "stdout",
     "output_type": "stream",
     "text": [
      "Training // Epoch 0 //  Total cost = 34.6871  Total cost1 = 34.6468  Total cost2 = 0.0403\n"
     ]
    },
    {
     "name": "stderr",
     "output_type": "stream",
     "text": [
      "100%|██████████| 50/50 [00:00<00:00, 144.51it/s]\n"
     ]
    },
    {
     "name": "stdout",
     "output_type": "stream",
     "text": [
      "Training // Epoch 1 //  Total cost = 34.3299  Total cost1 = 34.3026  Total cost2 = 0.0273\n"
     ]
    },
    {
     "name": "stderr",
     "output_type": "stream",
     "text": [
      "100%|██████████| 50/50 [00:00<00:00, 163.13it/s]\n"
     ]
    },
    {
     "name": "stdout",
     "output_type": "stream",
     "text": [
      "Training // Epoch 2 //  Total cost = 33.8415  Total cost1 = 33.8068  Total cost2 = 0.0347\n"
     ]
    },
    {
     "name": "stderr",
     "output_type": "stream",
     "text": [
      "100%|██████████| 50/50 [00:00<00:00, 145.99it/s]\n"
     ]
    },
    {
     "name": "stdout",
     "output_type": "stream",
     "text": [
      "Training // Epoch 3 //  Total cost = 33.0400  Total cost1 = 32.9922  Total cost2 = 0.0478\n"
     ]
    },
    {
     "name": "stderr",
     "output_type": "stream",
     "text": [
      "100%|██████████| 50/50 [00:00<00:00, 162.08it/s]\n"
     ]
    },
    {
     "name": "stdout",
     "output_type": "stream",
     "text": [
      "Training // Epoch 4 //  Total cost = 31.8408  Total cost1 = 31.7733  Total cost2 = 0.0675\n"
     ]
    },
    {
     "name": "stderr",
     "output_type": "stream",
     "text": [
      "100%|██████████| 50/50 [00:00<00:00, 149.92it/s]\n"
     ]
    },
    {
     "name": "stdout",
     "output_type": "stream",
     "text": [
      "Training // Epoch 5 //  Total cost = 30.1209  Total cost1 = 30.0268  Total cost2 = 0.0941\n"
     ]
    },
    {
     "name": "stderr",
     "output_type": "stream",
     "text": [
      "100%|██████████| 50/50 [00:00<00:00, 142.65it/s]\n"
     ]
    },
    {
     "name": "stdout",
     "output_type": "stream",
     "text": [
      "Training // Epoch 6 //  Total cost = 27.8490  Total cost1 = 27.7203  Total cost2 = 0.1287\n"
     ]
    },
    {
     "name": "stderr",
     "output_type": "stream",
     "text": [
      "100%|██████████| 50/50 [00:00<00:00, 134.41it/s]\n"
     ]
    },
    {
     "name": "stdout",
     "output_type": "stream",
     "text": [
      "Training // Epoch 7 //  Total cost = 24.9669  Total cost1 = 24.7963  Total cost2 = 0.1706\n"
     ]
    },
    {
     "name": "stderr",
     "output_type": "stream",
     "text": [
      "100%|██████████| 50/50 [00:00<00:00, 163.67it/s]\n"
     ]
    },
    {
     "name": "stdout",
     "output_type": "stream",
     "text": [
      "Training // Epoch 8 //  Total cost = 21.5728  Total cost1 = 21.3519  Total cost2 = 0.2209\n"
     ]
    },
    {
     "name": "stderr",
     "output_type": "stream",
     "text": [
      "100%|██████████| 50/50 [00:00<00:00, 150.38it/s]\n"
     ]
    },
    {
     "name": "stdout",
     "output_type": "stream",
     "text": [
      "Training // Epoch 9 //  Total cost = 17.5041  Total cost1 = 17.2240  Total cost2 = 0.2801\n"
     ]
    },
    {
     "name": "stderr",
     "output_type": "stream",
     "text": [
      "100%|██████████| 50/50 [00:00<00:00, 125.16it/s]\n"
     ]
    },
    {
     "name": "stdout",
     "output_type": "stream",
     "text": [
      "Training // Epoch 10 //  Total cost = 13.1237  Total cost1 = 12.7789  Total cost2 = 0.3448\n"
     ]
    },
    {
     "name": "stderr",
     "output_type": "stream",
     "text": [
      "100%|██████████| 50/50 [00:00<00:00, 138.31it/s]\n"
     ]
    },
    {
     "name": "stdout",
     "output_type": "stream",
     "text": [
      "Training // Epoch 11 //  Total cost = 8.3014  Total cost1 = 7.8841  Total cost2 = 0.4173\n"
     ]
    },
    {
     "name": "stderr",
     "output_type": "stream",
     "text": [
      "100%|██████████| 50/50 [00:00<00:00, 91.57it/s]\n"
     ]
    },
    {
     "name": "stdout",
     "output_type": "stream",
     "text": [
      "Training // Epoch 12 //  Total cost = 3.0644  Total cost1 = 2.5668  Total cost2 = 0.4975\n"
     ]
    },
    {
     "name": "stderr",
     "output_type": "stream",
     "text": [
      "100%|██████████| 50/50 [00:00<00:00, 106.27it/s]\n"
     ]
    },
    {
     "name": "stdout",
     "output_type": "stream",
     "text": [
      "Training // Epoch 13 //  Total cost = -2.8700  Total cost1 = -3.4546  Total cost2 = 0.5846\n"
     ]
    },
    {
     "name": "stderr",
     "output_type": "stream",
     "text": [
      "100%|██████████| 50/50 [00:00<00:00, 117.51it/s]\n"
     ]
    },
    {
     "name": "stdout",
     "output_type": "stream",
     "text": [
      "Training // Epoch 14 //  Total cost = -8.9634  Total cost1 = -9.6417  Total cost2 = 0.6784\n"
     ]
    },
    {
     "name": "stderr",
     "output_type": "stream",
     "text": [
      "100%|██████████| 50/50 [00:00<00:00, 148.37it/s]\n"
     ]
    },
    {
     "name": "stdout",
     "output_type": "stream",
     "text": [
      "Training // Epoch 15 //  Total cost = -15.2575  Total cost1 = -16.0375  Total cost2 = 0.7801\n"
     ]
    },
    {
     "name": "stderr",
     "output_type": "stream",
     "text": [
      "100%|██████████| 50/50 [00:00<00:00, 133.16it/s]\n"
     ]
    },
    {
     "name": "stdout",
     "output_type": "stream",
     "text": [
      "Training // Epoch 16 //  Total cost = -22.1916  Total cost1 = -23.0789  Total cost2 = 0.8873\n"
     ]
    },
    {
     "name": "stderr",
     "output_type": "stream",
     "text": [
      "100%|██████████| 50/50 [00:00<00:00, 130.55it/s]\n"
     ]
    },
    {
     "name": "stdout",
     "output_type": "stream",
     "text": [
      "Training // Epoch 17 //  Total cost = -29.3584  Total cost1 = -30.3573  Total cost2 = 0.9989\n"
     ]
    },
    {
     "name": "stderr",
     "output_type": "stream",
     "text": [
      "100%|██████████| 50/50 [00:00<00:00, 138.31it/s]\n"
     ]
    },
    {
     "name": "stdout",
     "output_type": "stream",
     "text": [
      "Training // Epoch 18 //  Total cost = -36.8070  Total cost1 = -37.9258  Total cost2 = 1.1189\n"
     ]
    },
    {
     "name": "stderr",
     "output_type": "stream",
     "text": [
      "100%|██████████| 50/50 [00:00<00:00, 153.85it/s]\n"
     ]
    },
    {
     "name": "stdout",
     "output_type": "stream",
     "text": [
      "Training // Epoch 19 //  Total cost = -44.4864  Total cost1 = -45.7317  Total cost2 = 1.2454\n",
      "****************************** Start simulation ******************************\n",
      "****************************** Epoch 0 ******************************\n"
     ]
    },
    {
     "name": "stderr",
     "output_type": "stream",
     "text": [
      "100%|██████████| 50/50 [00:00<00:00, 2563.82it/s]\n",
      "100%|██████████| 50/50 [00:00<00:00, 2941.97it/s]\n",
      "100%|██████████| 50/50 [00:00<00:00, 3846.79it/s]\n",
      "100%|██████████| 50/50 [00:00<00:00, 3846.36it/s]\n",
      "100%|██████████| 50/50 [00:00<00:00, 3449.32it/s]\n",
      "100%|██████████| 50/50 [00:00<00:00, 2702.76it/s]\n",
      "100%|██████████| 50/50 [00:00<00:00, 3226.59it/s]\n",
      "100%|██████████| 50/50 [00:00<00:00, 2564.19it/s]\n",
      "100%|██████████| 50/50 [00:00<00:00, 3999.76it/s]\n",
      "100%|██████████| 50/50 [00:00<00:00, 3030.44it/s]\n",
      "100%|██████████| 50/50 [00:00<00:00, 4001.05it/s]\n",
      "100%|██████████| 50/50 [00:00<00:00, 3571.75it/s]\n",
      "100%|██████████| 50/50 [00:00<00:00, 3333.52it/s]\n",
      "100%|██████████| 50/50 [00:00<00:00, 3571.32it/s]\n",
      "100%|██████████| 50/50 [00:00<00:00, 884.93it/s]\n",
      "100%|██████████| 50/50 [00:00<00:00, 2500.06it/s]\n",
      "100%|██████████| 50/50 [00:00<00:00, 3571.20it/s]\n",
      "100%|██████████| 50/50 [00:00<00:00, 3571.93it/s]\n",
      "100%|██████████| 50/50 [00:00<00:00, 4167.13it/s]\n",
      "100%|██████████| 50/50 [00:00<00:00, 3571.87it/s]\n"
     ]
    },
    {
     "name": "stdout",
     "output_type": "stream",
     "text": [
      "0.03250587382469175\n",
      "########## The iteration 1000, up to now total 1893 clicks, GC=0.0325, this cycle used 0.73 s) ##########\n",
      "Update bs to 227\n"
     ]
    },
    {
     "name": "stderr",
     "output_type": "stream",
     "text": [
      "100%|██████████| 20/20 [00:06<00:00,  3.24it/s]\n"
     ]
    },
    {
     "name": "stdout",
     "output_type": "stream",
     "text": [
      "\n",
      "****************************** Epoch 1 ******************************\n"
     ]
    },
    {
     "name": "stderr",
     "output_type": "stream",
     "text": [
      "100%|██████████| 50/50 [00:00<00:00, 3571.50it/s]\n",
      "100%|██████████| 50/50 [00:00<00:00, 2564.29it/s]\n",
      "100%|██████████| 50/50 [00:00<00:00, 4348.23it/s]\n",
      "100%|██████████| 50/50 [00:00<00:00, 3125.27it/s]\n",
      "100%|██████████| 50/50 [00:00<00:00, 3124.57it/s]\n",
      "100%|██████████| 50/50 [00:00<00:00, 2857.12it/s]\n",
      "100%|██████████| 50/50 [00:00<00:00, 3448.87it/s]\n",
      "100%|██████████| 50/50 [00:00<00:00, 3571.87it/s]\n",
      "100%|██████████| 50/50 [00:00<00:00, 4348.23it/s]\n",
      "100%|██████████| 50/50 [00:00<00:00, 3704.10it/s]\n",
      "100%|██████████| 50/50 [00:00<00:00, 3333.20it/s]\n",
      "100%|██████████| 50/50 [00:00<00:00, 2941.18it/s]\n",
      "100%|██████████| 50/50 [00:00<00:00, 2272.65it/s]\n",
      "100%|██████████| 50/50 [00:00<00:00, 3846.22it/s]\n",
      "100%|██████████| 50/50 [00:00<00:00, 3333.47it/s]\n",
      "100%|██████████| 50/50 [00:00<00:00, 3846.36it/s]\n",
      "100%|██████████| 50/50 [00:00<00:00, 4166.97it/s]\n",
      "100%|██████████| 50/50 [00:00<00:00, 3333.31it/s]\n",
      "100%|██████████| 50/50 [00:00<00:00, 2702.72it/s]\n",
      "100%|██████████| 50/50 [00:00<00:00, 2702.69it/s]\n"
     ]
    },
    {
     "name": "stdout",
     "output_type": "stream",
     "text": [
      "0.03131634765215032\n",
      "########## The iteration 1000, up to now total 4370 clicks, GC=0.0313, this cycle used 0.67 s) ##########\n",
      "Update bs to 524\n"
     ]
    },
    {
     "name": "stderr",
     "output_type": "stream",
     "text": [
      "100%|██████████| 20/20 [00:06<00:00,  3.19it/s]\n"
     ]
    },
    {
     "name": "stdout",
     "output_type": "stream",
     "text": [
      "\n",
      "****************************** Epoch 2 ******************************\n"
     ]
    },
    {
     "name": "stderr",
     "output_type": "stream",
     "text": [
      "100%|██████████| 50/50 [00:00<00:00, 4166.72it/s]\n",
      "100%|██████████| 50/50 [00:00<00:00, 2777.91it/s]\n",
      "100%|██████████| 50/50 [00:00<00:00, 3225.49it/s]\n",
      "100%|██████████| 50/50 [00:00<00:00, 3846.50it/s]\n",
      "100%|██████████| 50/50 [00:00<00:00, 3846.15it/s]\n",
      "100%|██████████| 50/50 [00:00<00:00, 3448.64it/s]\n",
      "100%|██████████| 50/50 [00:00<00:00, 3333.36it/s]\n",
      "100%|██████████| 50/50 [00:00<00:00, 3571.57it/s]\n",
      "100%|██████████| 50/50 [00:00<00:00, 3846.01it/s]\n",
      "100%|██████████| 50/50 [00:00<00:00, 4545.39it/s]\n",
      "100%|██████████| 50/50 [00:00<00:00, 3333.47it/s]\n",
      "100%|██████████| 50/50 [00:00<00:00, 5264.20it/s]\n",
      "100%|██████████| 50/50 [00:00<00:00, 4166.97it/s]\n",
      "100%|██████████| 50/50 [00:00<00:00, 3571.99it/s]\n",
      "100%|██████████| 50/50 [00:00<00:00, 3226.14it/s]\n",
      "100%|██████████| 50/50 [00:00<00:00, 3704.76it/s]\n",
      "100%|██████████| 50/50 [00:00<00:00, 3999.76it/s]\n",
      "100%|██████████| 50/50 [00:00<00:00, 3704.43it/s]\n",
      "100%|██████████| 50/50 [00:00<00:00, 4167.30it/s]\n",
      "100%|██████████| 50/50 [00:00<00:00, 3999.68it/s]\n"
     ]
    },
    {
     "name": "stdout",
     "output_type": "stream",
     "text": [
      "0.029600969373117635\n",
      "########## The iteration 1000, up to now total 7254 clicks, GC=0.0296, this cycle used 0.63 s) ##########\n",
      "Update bs to 870\n"
     ]
    },
    {
     "name": "stderr",
     "output_type": "stream",
     "text": [
      "100%|██████████| 20/20 [00:06<00:00,  3.19it/s]\n"
     ]
    },
    {
     "name": "stdout",
     "output_type": "stream",
     "text": [
      "\n",
      "****************************** Epoch 3 ******************************\n"
     ]
    },
    {
     "name": "stderr",
     "output_type": "stream",
     "text": [
      "100%|██████████| 50/50 [00:00<00:00, 5264.20it/s]\n",
      "100%|██████████| 50/50 [00:00<00:00, 3333.63it/s]\n",
      "100%|██████████| 50/50 [00:00<00:00, 3448.53it/s]\n",
      "100%|██████████| 50/50 [00:00<00:00, 3704.23it/s]\n",
      "100%|██████████| 50/50 [00:00<00:00, 3571.75it/s]\n",
      "100%|██████████| 50/50 [00:00<00:00, 4545.98it/s]\n",
      "100%|██████████| 50/50 [00:00<00:00, 3846.57it/s]\n",
      "100%|██████████| 50/50 [00:00<00:00, 4546.18it/s]\n",
      "100%|██████████| 50/50 [00:00<00:00, 3703.91it/s]\n",
      "100%|██████████| 50/50 [00:00<00:00, 3448.87it/s]\n",
      "100%|██████████| 50/50 [00:00<00:00, 3125.55it/s]\n",
      "100%|██████████| 50/50 [00:00<00:00, 4000.14it/s]\n",
      "100%|██████████| 50/50 [00:00<00:00, 3845.59it/s]\n",
      "100%|██████████| 50/50 [00:00<00:00, 3333.05it/s]\n",
      "100%|██████████| 50/50 [00:00<00:00, 3571.75it/s]\n",
      "100%|██████████| 50/50 [00:00<00:00, 3333.52it/s]\n",
      "100%|██████████| 50/50 [00:00<00:00, 4998.22it/s]\n",
      "100%|██████████| 50/50 [00:00<00:00, 3333.20it/s]\n",
      "100%|██████████| 50/50 [00:00<00:00, 3571.57it/s]\n",
      "100%|██████████| 50/50 [00:00<00:00, 4166.55it/s]\n"
     ]
    },
    {
     "name": "stdout",
     "output_type": "stream",
     "text": [
      "0.028510239014192914\n",
      "########## The iteration 1000, up to now total 9937 clicks, GC=0.0285, this cycle used 0.63 s) ##########\n",
      "Update bs to 1192\n"
     ]
    },
    {
     "name": "stderr",
     "output_type": "stream",
     "text": [
      "100%|██████████| 20/20 [00:07<00:00,  2.73it/s]\n"
     ]
    },
    {
     "name": "stdout",
     "output_type": "stream",
     "text": [
      "\n",
      "****************************** Epoch 4 ******************************\n"
     ]
    },
    {
     "name": "stderr",
     "output_type": "stream",
     "text": [
      "100%|██████████| 50/50 [00:00<00:00, 3703.06it/s]\n",
      "100%|██████████| 50/50 [00:00<00:00, 3125.41it/s]\n",
      "100%|██████████| 50/50 [00:00<00:00, 3225.69it/s]\n",
      "100%|██████████| 50/50 [00:00<00:00, 3846.36it/s]\n",
      "100%|██████████| 50/50 [00:00<00:00, 3125.27it/s]\n",
      "100%|██████████| 50/50 [00:00<00:00, 3448.81it/s]\n",
      "100%|██████████| 50/50 [00:00<00:00, 3332.99it/s]\n",
      "100%|██████████| 50/50 [00:00<00:00, 4167.22it/s]\n",
      "100%|██████████| 50/50 [00:00<00:00, 3845.87it/s]\n",
      "100%|██████████| 50/50 [00:00<00:00, 3226.29it/s]\n",
      "100%|██████████| 50/50 [00:00<00:00, 2777.98it/s]\n",
      "100%|██████████| 50/50 [00:00<00:00, 3571.93it/s]\n",
      "100%|██████████| 50/50 [00:00<00:00, 2272.84it/s]\n",
      "100%|██████████| 50/50 [00:00<00:00, 4167.30it/s]\n",
      "100%|██████████| 50/50 [00:00<00:00, 3702.66it/s]\n",
      "100%|██████████| 50/50 [00:00<00:00, 3448.92it/s]\n",
      "100%|██████████| 50/50 [00:00<00:00, 4999.41it/s]\n",
      "100%|██████████| 50/50 [00:00<00:00, 2778.09it/s]\n",
      "100%|██████████| 50/50 [00:00<00:00, 3447.96it/s]\n",
      "100%|██████████| 50/50 [00:00<00:00, 3333.42it/s]\n"
     ]
    },
    {
     "name": "stdout",
     "output_type": "stream",
     "text": [
      "0.027061038058547884\n",
      "########## The iteration 1000, up to now total 12554 clicks, GC=0.0271, this cycle used 0.68 s) ##########\n",
      "Update bs to 1506\n"
     ]
    },
    {
     "name": "stderr",
     "output_type": "stream",
     "text": [
      "100%|██████████| 20/20 [00:07<00:00,  2.70it/s]\n"
     ]
    },
    {
     "name": "stdout",
     "output_type": "stream",
     "text": [
      "\n",
      "****************************** Epoch 5 ******************************\n"
     ]
    },
    {
     "name": "stderr",
     "output_type": "stream",
     "text": [
      "100%|██████████| 50/50 [00:00<00:00, 5555.52it/s]\n",
      "100%|██████████| 50/50 [00:00<00:00, 2438.97it/s]\n",
      "100%|██████████| 50/50 [00:00<00:00, 3572.36it/s]\n",
      "100%|██████████| 50/50 [00:00<00:00, 3124.53it/s]\n",
      "100%|██████████| 50/50 [00:00<00:00, 2083.13it/s]\n",
      "100%|██████████| 50/50 [00:00<00:00, 1052.61it/s]\n",
      "100%|██████████| 50/50 [00:00<00:00, 4348.86it/s]\n",
      "100%|██████████| 50/50 [00:00<00:00, 3571.93it/s]\n",
      "100%|██████████| 50/50 [00:00<00:00, 3703.97it/s]\n",
      "100%|██████████| 50/50 [00:00<00:00, 3125.18it/s]\n",
      "100%|██████████| 50/50 [00:00<00:00, 3845.66it/s]\n",
      "100%|██████████| 50/50 [00:00<00:00, 3702.99it/s]\n",
      "100%|██████████| 50/50 [00:00<00:00, 4167.38it/s]\n",
      "100%|██████████| 50/50 [00:00<00:00, 3124.99it/s]\n",
      "100%|██████████| 50/50 [00:00<00:00, 3703.58it/s]\n",
      "100%|██████████| 50/50 [00:00<00:00, 3333.36it/s]\n",
      "100%|██████████| 50/50 [00:00<00:00, 4545.00it/s]\n",
      "100%|██████████| 50/50 [00:00<00:00, 3571.02it/s]\n",
      "100%|██████████| 50/50 [00:00<00:00, 3703.84it/s]\n",
      "100%|██████████| 50/50 [00:00<00:00, 3334.00it/s]\n"
     ]
    },
    {
     "name": "stdout",
     "output_type": "stream",
     "text": [
      "0.025598543373902074\n",
      "########## The iteration 1000, up to now total 15000 clicks, GC=0.0256, this cycle used 0.70 s) ##########\n",
      "Update bs to 1800\n"
     ]
    },
    {
     "name": "stderr",
     "output_type": "stream",
     "text": [
      "100%|██████████| 20/20 [00:07<00:00,  2.66it/s]\n"
     ]
    },
    {
     "name": "stdout",
     "output_type": "stream",
     "text": [
      "\n",
      "****************************** Epoch 6 ******************************\n"
     ]
    },
    {
     "name": "stderr",
     "output_type": "stream",
     "text": [
      "100%|██████████| 50/50 [00:00<00:00, 4999.29it/s]\n",
      "100%|██████████| 50/50 [00:00<00:00, 2702.69it/s]\n",
      "100%|██████████| 50/50 [00:00<00:00, 3124.90it/s]\n",
      "100%|██████████| 50/50 [00:00<00:00, 3846.01it/s]\n",
      "100%|██████████| 50/50 [00:00<00:00, 3447.56it/s]\n",
      "100%|██████████| 50/50 [00:00<00:00, 3448.47it/s]\n",
      "100%|██████████| 50/50 [00:00<00:00, 375.95it/s]\n",
      "100%|██████████| 50/50 [00:00<00:00, 4545.00it/s]\n",
      "100%|██████████| 50/50 [00:00<00:00, 3846.50it/s]\n",
      "100%|██████████| 50/50 [00:00<00:00, 3448.07it/s]\n",
      "100%|██████████| 50/50 [00:00<00:00, 4346.97it/s]\n",
      "100%|██████████| 50/50 [00:00<00:00, 3124.76it/s]\n",
      "100%|██████████| 50/50 [00:00<00:00, 3333.31it/s]\n",
      "100%|██████████| 50/50 [00:00<00:00, 3846.57it/s]\n",
      "100%|██████████| 50/50 [00:00<00:00, 3125.13it/s]\n",
      "100%|██████████| 50/50 [00:00<00:00, 3571.20it/s]\n",
      "100%|██████████| 50/50 [00:00<00:00, 4000.75it/s]\n",
      "100%|██████████| 50/50 [00:00<00:00, 2564.16it/s]\n",
      "100%|██████████| 50/50 [00:00<00:00, 3125.27it/s]\n",
      "100%|██████████| 50/50 [00:00<00:00, 3448.64it/s]\n"
     ]
    },
    {
     "name": "stdout",
     "output_type": "stream",
     "text": [
      "0.0245369540946848\n",
      "########## The iteration 1000, up to now total 17319 clicks, GC=0.0245, this cycle used 0.78 s) ##########\n",
      "Update bs to 2078\n"
     ]
    },
    {
     "name": "stderr",
     "output_type": "stream",
     "text": [
      "100%|██████████| 20/20 [00:07<00:00,  2.58it/s]\n"
     ]
    },
    {
     "name": "stdout",
     "output_type": "stream",
     "text": [
      "\n",
      "****************************** Epoch 7 ******************************\n"
     ]
    },
    {
     "name": "stderr",
     "output_type": "stream",
     "text": [
      "100%|██████████| 50/50 [00:00<00:00, 5263.54it/s]\n",
      "100%|██████████| 50/50 [00:00<00:00, 3125.18it/s]\n",
      "100%|██████████| 50/50 [00:00<00:00, 2777.72it/s]\n",
      "100%|██████████| 50/50 [00:00<00:00, 3125.32it/s]\n",
      "100%|██████████| 50/50 [00:00<00:00, 3225.99it/s]\n",
      "100%|██████████| 50/50 [00:00<00:00, 3030.74it/s]\n",
      "100%|██████████| 50/50 [00:00<00:00, 3124.95it/s]\n",
      "100%|██████████| 50/50 [00:00<00:00, 3333.20it/s]\n",
      "100%|██████████| 50/50 [00:00<00:00, 3333.68it/s]\n",
      "100%|██████████| 50/50 [00:00<00:00, 3333.05it/s]\n",
      "100%|██████████| 50/50 [00:00<00:00, 3333.36it/s]\n",
      "100%|██████████| 50/50 [00:00<00:00, 4545.78it/s]\n",
      "100%|██████████| 50/50 [00:00<00:00, 4000.06it/s]\n",
      "100%|██████████| 50/50 [00:00<00:00, 2631.11it/s]\n",
      "100%|██████████| 50/50 [00:00<00:00, 2941.47it/s]\n",
      "100%|██████████| 50/50 [00:00<00:00, 4545.29it/s]\n",
      "100%|██████████| 50/50 [00:00<00:00, 3703.65it/s]\n",
      "100%|██████████| 50/50 [00:00<00:00, 2702.76it/s]\n",
      "100%|██████████| 50/50 [00:00<00:00, 3448.47it/s]\n",
      "100%|██████████| 50/50 [00:00<00:00, 3333.26it/s]\n"
     ]
    },
    {
     "name": "stdout",
     "output_type": "stream",
     "text": [
      "0.023379448286944077\n",
      "########## The iteration 1000, up to now total 19501 clicks, GC=0.0234, this cycle used 0.68 s) ##########\n",
      "Update bs to 2340\n"
     ]
    },
    {
     "name": "stderr",
     "output_type": "stream",
     "text": [
      "100%|██████████| 20/20 [00:08<00:00,  2.47it/s]\n"
     ]
    },
    {
     "name": "stdout",
     "output_type": "stream",
     "text": [
      "\n",
      "****************************** Epoch 8 ******************************\n"
     ]
    },
    {
     "name": "stderr",
     "output_type": "stream",
     "text": [
      "100%|██████████| 50/50 [00:00<00:00, 3999.91it/s]\n",
      "100%|██████████| 50/50 [00:00<00:00, 3333.15it/s]\n",
      "100%|██████████| 50/50 [00:00<00:00, 3448.53it/s]\n",
      "100%|██████████| 50/50 [00:00<00:00, 3845.87it/s]\n",
      "100%|██████████| 50/50 [00:00<00:00, 4000.06it/s]\n",
      "100%|██████████| 50/50 [00:00<00:00, 3030.52it/s]\n",
      "100%|██████████| 50/50 [00:00<00:00, 4545.69it/s]\n",
      "100%|██████████| 50/50 [00:00<00:00, 3999.45it/s]\n",
      "100%|██████████| 50/50 [00:00<00:00, 4000.75it/s]\n",
      "100%|██████████| 50/50 [00:00<00:00, 3447.68it/s]\n",
      "100%|██████████| 50/50 [00:00<00:00, 3845.94it/s]\n",
      "100%|██████████| 50/50 [00:00<00:00, 4000.14it/s]\n",
      "100%|██████████| 50/50 [00:00<00:00, 5264.46it/s]\n",
      "100%|██████████| 50/50 [00:00<00:00, 3704.10it/s]\n",
      "100%|██████████| 50/50 [00:00<00:00, 3333.52it/s]\n",
      "100%|██████████| 50/50 [00:00<00:00, 3333.42it/s]\n",
      "100%|██████████| 50/50 [00:00<00:00, 3571.69it/s]\n",
      "100%|██████████| 50/50 [00:00<00:00, 3703.38it/s]\n",
      "100%|██████████| 50/50 [00:00<00:00, 4000.06it/s]\n",
      "100%|██████████| 50/50 [00:00<00:00, 4000.21it/s]\n"
     ]
    },
    {
     "name": "stdout",
     "output_type": "stream",
     "text": [
      "0.022013207262200542\n",
      "########## The iteration 1000, up to now total 21527 clicks, GC=0.0220, this cycle used 0.63 s) ##########\n",
      "Update bs to 2583\n"
     ]
    },
    {
     "name": "stderr",
     "output_type": "stream",
     "text": [
      "100%|██████████| 20/20 [00:08<00:00,  2.36it/s]\n"
     ]
    },
    {
     "name": "stdout",
     "output_type": "stream",
     "text": [
      "\n",
      "****************************** Epoch 9 ******************************\n"
     ]
    },
    {
     "name": "stderr",
     "output_type": "stream",
     "text": [
      "100%|██████████| 50/50 [00:00<00:00, 4347.33it/s]\n",
      "100%|██████████| 50/50 [00:00<00:00, 2857.04it/s]\n",
      "100%|██████████| 50/50 [00:00<00:00, 3448.02it/s]\n",
      "100%|██████████| 50/50 [00:00<00:00, 4166.55it/s]\n",
      "100%|██████████| 50/50 [00:00<00:00, 3571.38it/s]\n",
      "100%|██████████| 50/50 [00:00<00:00, 3124.95it/s]\n",
      "100%|██████████| 50/50 [00:00<00:00, 3845.30it/s]\n",
      "100%|██████████| 50/50 [00:00<00:00, 3704.82it/s]\n",
      "100%|██████████| 50/50 [00:00<00:00, 3571.57it/s]\n",
      "100%|██████████| 50/50 [00:00<00:00, 3448.81it/s]\n",
      "100%|██████████| 50/50 [00:00<00:00, 3124.57it/s]\n",
      "100%|██████████| 50/50 [00:00<00:00, 4000.29it/s]\n",
      "100%|██████████| 50/50 [00:00<00:00, 4166.64it/s]\n",
      "100%|██████████| 50/50 [00:00<00:00, 3225.64it/s]\n",
      "100%|██████████| 50/50 [00:00<00:00, 2857.19it/s]\n",
      "100%|██████████| 50/50 [00:00<00:00, 3029.91it/s]\n",
      "100%|██████████| 50/50 [00:00<00:00, 3846.15it/s]\n",
      "100%|██████████| 50/50 [00:00<00:00, 4347.51it/s]\n",
      "100%|██████████| 50/50 [00:00<00:00, 2702.65it/s]\n",
      "100%|██████████| 50/50 [00:00<00:00, 4761.60it/s]\n"
     ]
    },
    {
     "name": "stdout",
     "output_type": "stream",
     "text": [
      "0.02097621855624655\n",
      "########## The iteration 1000, up to now total 23394 clicks, GC=0.0210, this cycle used 0.64 s) ##########\n",
      "Update bs to 2807\n"
     ]
    },
    {
     "name": "stderr",
     "output_type": "stream",
     "text": [
      "100%|██████████| 20/20 [00:09<00:00,  2.07it/s]\n"
     ]
    },
    {
     "name": "stdout",
     "output_type": "stream",
     "text": [
      "\n",
      "****************************** Epoch 10 ******************************\n"
     ]
    },
    {
     "name": "stderr",
     "output_type": "stream",
     "text": [
      "100%|██████████| 50/50 [00:00<00:00, 2777.35it/s]\n",
      "100%|██████████| 50/50 [00:00<00:00, 1818.14it/s]\n",
      "100%|██████████| 50/50 [00:00<00:00, 2499.88it/s]\n",
      "100%|██████████| 50/50 [00:00<00:00, 2563.79it/s]\n",
      "100%|██████████| 50/50 [00:00<00:00, 2499.85it/s]\n",
      "100%|██████████| 50/50 [00:00<00:00, 2173.94it/s]\n",
      "100%|██████████| 50/50 [00:00<00:00, 1851.86it/s]\n",
      "100%|██████████| 50/50 [00:00<00:00, 2272.60it/s]\n",
      "100%|██████████| 50/50 [00:00<00:00, 1754.37it/s]\n",
      "100%|██████████| 50/50 [00:00<00:00, 1851.76it/s]\n",
      "100%|██████████| 50/50 [00:00<00:00, 2778.02it/s]\n",
      "100%|██████████| 50/50 [00:00<00:00, 3124.76it/s]\n",
      "100%|██████████| 50/50 [00:00<00:00, 2940.94it/s]\n",
      "100%|██████████| 50/50 [00:00<00:00, 3030.70it/s]\n",
      "100%|██████████| 50/50 [00:00<00:00, 4999.77it/s]\n",
      "100%|██████████| 50/50 [00:00<00:00, 3570.59it/s]\n",
      "100%|██████████| 50/50 [00:00<00:00, 3030.48it/s]\n",
      "100%|██████████| 50/50 [00:00<00:00, 3703.71it/s]\n",
      "100%|██████████| 50/50 [00:00<00:00, 3333.42it/s]\n",
      "100%|██████████| 50/50 [00:00<00:00, 2941.06it/s]\n"
     ]
    },
    {
     "name": "stdout",
     "output_type": "stream",
     "text": [
      "0.020251432089556563\n",
      "########## The iteration 1000, up to now total 25263 clicks, GC=0.0203, this cycle used 0.83 s) ##########\n",
      "Update bs to 3031\n"
     ]
    },
    {
     "name": "stderr",
     "output_type": "stream",
     "text": [
      "100%|██████████| 20/20 [00:10<00:00,  1.98it/s]\n"
     ]
    },
    {
     "name": "stdout",
     "output_type": "stream",
     "text": [
      "\n",
      "****************************** Epoch 11 ******************************\n"
     ]
    },
    {
     "name": "stderr",
     "output_type": "stream",
     "text": [
      "100%|██████████| 50/50 [00:00<00:00, 4761.82it/s]\n",
      "100%|██████████| 50/50 [00:00<00:00, 2777.91it/s]\n",
      "100%|██████████| 50/50 [00:00<00:00, 3030.57it/s]\n",
      "100%|██████████| 50/50 [00:00<00:00, 3226.49it/s]\n",
      "100%|██████████| 50/50 [00:00<00:00, 3333.42it/s]\n",
      "100%|██████████| 50/50 [00:00<00:00, 2857.00it/s]\n",
      "100%|██████████| 50/50 [00:00<00:00, 3448.13it/s]\n",
      "100%|██████████| 50/50 [00:00<00:00, 2439.09it/s]\n",
      "100%|██████████| 50/50 [00:00<00:00, 2702.86it/s]\n",
      "100%|██████████| 50/50 [00:00<00:00, 2941.14it/s]\n",
      "100%|██████████| 50/50 [00:00<00:00, 4166.39it/s]\n",
      "100%|██████████| 50/50 [00:00<00:00, 3030.00it/s]\n",
      "100%|██████████| 50/50 [00:00<00:00, 3030.92it/s]\n",
      "100%|██████████| 50/50 [00:00<00:00, 4167.63it/s]\n",
      "100%|██████████| 50/50 [00:00<00:00, 3333.63it/s]\n",
      "100%|██████████| 50/50 [00:00<00:00, 970.90it/s]\n",
      "100%|██████████| 50/50 [00:00<00:00, 4166.72it/s]\n",
      "100%|██████████| 50/50 [00:00<00:00, 2941.27it/s]\n",
      "100%|██████████| 50/50 [00:00<00:00, 4545.09it/s]\n",
      "100%|██████████| 50/50 [00:00<00:00, 3333.42it/s]\n"
     ]
    },
    {
     "name": "stdout",
     "output_type": "stream",
     "text": [
      "0.01913501455644723\n",
      "########## The iteration 1000, up to now total 27073 clicks, GC=0.0191, this cycle used 0.71 s) ##########\n",
      "Update bs to 3248\n"
     ]
    },
    {
     "name": "stderr",
     "output_type": "stream",
     "text": [
      "100%|██████████| 20/20 [00:09<00:00,  2.11it/s]\n"
     ]
    },
    {
     "name": "stdout",
     "output_type": "stream",
     "text": [
      "\n",
      "****************************** Epoch 12 ******************************\n"
     ]
    },
    {
     "name": "stderr",
     "output_type": "stream",
     "text": [
      "100%|██████████| 50/50 [00:00<00:00, 4999.53it/s]\n",
      "100%|██████████| 50/50 [00:00<00:00, 3225.64it/s]\n",
      "100%|██████████| 50/50 [00:00<00:00, 2777.72it/s]\n",
      "100%|██████████| 50/50 [00:00<00:00, 3448.30it/s]\n",
      "100%|██████████| 50/50 [00:00<00:00, 3333.42it/s]\n",
      "100%|██████████| 50/50 [00:00<00:00, 3030.26it/s]\n",
      "100%|██████████| 50/50 [00:00<00:00, 4762.36it/s]\n",
      "100%|██████████| 50/50 [00:00<00:00, 3332.73it/s]\n",
      "100%|██████████| 50/50 [00:00<00:00, 3030.35it/s]\n",
      "100%|██████████| 50/50 [00:00<00:00, 3225.84it/s]\n",
      "100%|██████████| 50/50 [00:00<00:00, 3571.44it/s]\n",
      "100%|██████████| 50/50 [00:00<00:00, 3846.22it/s]\n",
      "100%|██████████| 50/50 [00:00<00:00, 4167.63it/s]\n",
      "100%|██████████| 50/50 [00:00<00:00, 2940.94it/s]\n",
      "100%|██████████| 50/50 [00:00<00:00, 3448.30it/s]\n",
      "100%|██████████| 50/50 [00:00<00:00, 3333.36it/s]\n",
      "100%|██████████| 50/50 [00:00<00:00, 3030.30it/s]\n",
      "100%|██████████| 50/50 [00:00<00:00, 2325.62it/s]\n",
      "100%|██████████| 50/50 [00:00<00:00, 2381.10it/s]\n",
      "100%|██████████| 50/50 [00:00<00:00, 2325.67it/s]\n"
     ]
    },
    {
     "name": "stdout",
     "output_type": "stream",
     "text": [
      "0.01864072589284661\n",
      "########## The iteration 1000, up to now total 28692 clicks, GC=0.0186, this cycle used 0.70 s) ##########\n",
      "Update bs to 3443\n"
     ]
    },
    {
     "name": "stderr",
     "output_type": "stream",
     "text": [
      "100%|██████████| 20/20 [00:11<00:00,  1.81it/s]\n"
     ]
    },
    {
     "name": "stdout",
     "output_type": "stream",
     "text": [
      "\n",
      "****************************** Epoch 13 ******************************\n"
     ]
    },
    {
     "name": "stderr",
     "output_type": "stream",
     "text": [
      "100%|██████████| 50/50 [00:00<00:00, 5000.12it/s]\n",
      "100%|██████████| 50/50 [00:00<00:00, 3448.81it/s]\n",
      "100%|██████████| 50/50 [00:00<00:00, 5556.55it/s]\n",
      "100%|██████████| 50/50 [00:00<00:00, 3703.97it/s]\n",
      "100%|██████████| 50/50 [00:00<00:00, 4999.65it/s]\n",
      "100%|██████████| 50/50 [00:00<00:00, 4166.97it/s]\n",
      "100%|██████████| 50/50 [00:00<00:00, 3333.73it/s]\n",
      "100%|██████████| 50/50 [00:00<00:00, 3704.10it/s]\n",
      "100%|██████████| 50/50 [00:00<00:00, 3225.35it/s]\n",
      "100%|██████████| 50/50 [00:00<00:00, 4000.21it/s]\n",
      "100%|██████████| 50/50 [00:00<00:00, 3846.71it/s]\n",
      "100%|██████████| 50/50 [00:00<00:00, 5263.80it/s]\n",
      "100%|██████████| 50/50 [00:00<00:00, 5555.52it/s]\n",
      "100%|██████████| 50/50 [00:00<00:00, 4166.80it/s]\n",
      "100%|██████████| 50/50 [00:00<00:00, 4761.06it/s]\n",
      "100%|██████████| 50/50 [00:00<00:00, 4545.88it/s]\n",
      "100%|██████████| 50/50 [00:00<00:00, 4347.51it/s]\n",
      "100%|██████████| 50/50 [00:00<00:00, 3448.53it/s]\n",
      "100%|██████████| 50/50 [00:00<00:00, 4000.75it/s]\n",
      "100%|██████████| 50/50 [00:00<00:00, 4000.90it/s]\n"
     ]
    },
    {
     "name": "stdout",
     "output_type": "stream",
     "text": [
      "0.017912459390130007\n",
      "########## The iteration 1000, up to now total 30207 clicks, GC=0.0179, this cycle used 0.58 s) ##########\n",
      "Update bs to 3624\n"
     ]
    },
    {
     "name": "stderr",
     "output_type": "stream",
     "text": [
      "100%|██████████| 20/20 [00:10<00:00,  1.82it/s]\n"
     ]
    },
    {
     "name": "stdout",
     "output_type": "stream",
     "text": [
      "\n",
      "****************************** Epoch 14 ******************************\n"
     ]
    },
    {
     "name": "stderr",
     "output_type": "stream",
     "text": [
      "100%|██████████| 50/50 [00:00<00:00, 4761.28it/s]\n",
      "100%|██████████| 50/50 [00:00<00:00, 3703.97it/s]\n",
      "100%|██████████| 50/50 [00:00<00:00, 3704.30it/s]\n",
      "100%|██████████| 50/50 [00:00<00:00, 5556.25it/s]\n",
      "100%|██████████| 50/50 [00:00<00:00, 4347.78it/s]\n",
      "100%|██████████| 50/50 [00:00<00:00, 4762.36it/s]\n",
      "100%|██████████| 50/50 [00:00<00:00, 4545.78it/s]\n",
      "100%|██████████| 50/50 [00:00<00:00, 3447.34it/s]\n",
      "100%|██████████| 50/50 [00:00<00:00, 3572.17it/s]\n",
      "100%|██████████| 50/50 [00:00<00:00, 3846.57it/s]\n",
      "100%|██████████| 50/50 [00:00<00:00, 4762.03it/s]\n",
      "100%|██████████| 50/50 [00:00<00:00, 5883.27it/s]\n",
      "100%|██████████| 50/50 [00:00<00:00, 3571.63it/s]\n",
      "100%|██████████| 50/50 [00:00<00:00, 3706.07it/s]\n",
      "100%|██████████| 50/50 [00:00<00:00, 4000.06it/s]\n",
      "100%|██████████| 50/50 [00:00<00:00, 5263.67it/s]\n",
      "100%|██████████| 50/50 [00:00<00:00, 3704.10it/s]\n",
      "100%|██████████| 50/50 [00:00<00:00, 3571.38it/s]\n",
      "100%|██████████| 50/50 [00:00<00:00, 5883.11it/s]\n",
      "100%|██████████| 50/50 [00:00<00:00, 4763.33it/s]\n"
     ]
    },
    {
     "name": "stdout",
     "output_type": "stream",
     "text": [
      "0.017529116926694826\n",
      "########## The iteration 1000, up to now total 31615 clicks, GC=0.0175, this cycle used 0.60 s) ##########\n",
      "Update bs to 3793\n"
     ]
    },
    {
     "name": "stderr",
     "output_type": "stream",
     "text": [
      "100%|██████████| 20/20 [00:10<00:00,  1.86it/s]\n"
     ]
    },
    {
     "name": "stdout",
     "output_type": "stream",
     "text": [
      "\n",
      "****************************** Epoch 15 ******************************\n"
     ]
    },
    {
     "name": "stderr",
     "output_type": "stream",
     "text": [
      "100%|██████████| 50/50 [00:00<00:00, 3702.73it/s]\n",
      "100%|██████████| 50/50 [00:00<00:00, 2631.41it/s]\n",
      "100%|██████████| 50/50 [00:00<00:00, 3226.04it/s]\n",
      "100%|██████████| 50/50 [00:00<00:00, 1204.79it/s]\n",
      "100%|██████████| 50/50 [00:00<00:00, 3124.76it/s]\n",
      "100%|██████████| 50/50 [00:00<00:00, 3704.36it/s]\n",
      "100%|██████████| 50/50 [00:00<00:00, 2499.94it/s]\n",
      "100%|██████████| 50/50 [00:00<00:00, 2702.72it/s]\n",
      "100%|██████████| 50/50 [00:00<00:00, 3125.97it/s]\n",
      "100%|██████████| 50/50 [00:00<00:00, 2857.00it/s]\n",
      "100%|██████████| 50/50 [00:00<00:00, 3226.29it/s]\n",
      "100%|██████████| 50/50 [00:00<00:00, 4348.41it/s]\n",
      "100%|██████████| 50/50 [00:00<00:00, 3448.07it/s]\n",
      "100%|██████████| 50/50 [00:00<00:00, 3703.71it/s]\n",
      "100%|██████████| 50/50 [00:00<00:00, 3571.14it/s]\n",
      "100%|██████████| 50/50 [00:00<00:00, 3225.79it/s]\n",
      "100%|██████████| 50/50 [00:00<00:00, 4000.21it/s]\n",
      "100%|██████████| 50/50 [00:00<00:00, 317.46it/s]\n",
      "100%|██████████| 50/50 [00:00<00:00, 4996.55it/s]\n",
      "100%|██████████| 50/50 [00:00<00:00, 3448.19it/s]\n"
     ]
    },
    {
     "name": "stdout",
     "output_type": "stream",
     "text": [
      "0.016463630756832125\n",
      "########## The iteration 1000, up to now total 33201 clicks, GC=0.0165, this cycle used 0.83 s) ##########\n",
      "Update bs to 3984\n"
     ]
    },
    {
     "name": "stderr",
     "output_type": "stream",
     "text": [
      "100%|██████████| 20/20 [00:10<00:00,  1.93it/s]\n"
     ]
    },
    {
     "name": "stdout",
     "output_type": "stream",
     "text": [
      "\n",
      "****************************** Epoch 16 ******************************\n"
     ]
    },
    {
     "name": "stderr",
     "output_type": "stream",
     "text": [
      "100%|██████████| 50/50 [00:00<00:00, 4763.87it/s]\n",
      "100%|██████████| 50/50 [00:00<00:00, 4349.22it/s]\n",
      "100%|██████████| 50/50 [00:00<00:00, 5001.55it/s]\n",
      "100%|██████████| 50/50 [00:00<00:00, 3846.15it/s]\n",
      "100%|██████████| 50/50 [00:00<00:00, 5000.12it/s]\n",
      "100%|██████████| 50/50 [00:00<00:00, 4762.90it/s]\n",
      "100%|██████████| 50/50 [00:00<00:00, 5000.24it/s]\n",
      "100%|██████████| 50/50 [00:00<00:00, 4166.89it/s]\n",
      "100%|██████████| 50/50 [00:00<00:00, 5262.75it/s]\n",
      "100%|██████████| 50/50 [00:00<00:00, 5882.45it/s]\n",
      "100%|██████████| 50/50 [00:00<00:00, 5556.55it/s]\n",
      "100%|██████████| 50/50 [00:00<00:00, 3333.42it/s]\n",
      "100%|██████████| 50/50 [00:00<00:00, 3030.70it/s]\n",
      "100%|██████████| 50/50 [00:00<00:00, 3999.53it/s]\n",
      "100%|██████████| 50/50 [00:00<00:00, 5882.94it/s]\n",
      "100%|██████████| 50/50 [00:00<00:00, 5264.20it/s]\n",
      "100%|██████████| 50/50 [00:00<00:00, 5264.60it/s]\n",
      "100%|██████████| 50/50 [00:00<00:00, 5555.81it/s]\n",
      "100%|██████████| 50/50 [00:00<00:00, 5001.20it/s]\n",
      "100%|██████████| 50/50 [00:00<00:00, 3845.16it/s]\n"
     ]
    },
    {
     "name": "stdout",
     "output_type": "stream",
     "text": [
      "0.015722709274356574\n",
      "########## The iteration 1000, up to now total 34895 clicks, GC=0.0157, this cycle used 0.55 s) ##########\n",
      "Update bs to 4187\n"
     ]
    },
    {
     "name": "stderr",
     "output_type": "stream",
     "text": [
      "100%|██████████| 20/20 [00:09<00:00,  2.00it/s]\n"
     ]
    },
    {
     "name": "stdout",
     "output_type": "stream",
     "text": [
      "\n",
      "****************************** Epoch 17 ******************************\n"
     ]
    },
    {
     "name": "stderr",
     "output_type": "stream",
     "text": [
      "100%|██████████| 50/50 [00:00<00:00, 3571.50it/s]\n",
      "100%|██████████| 50/50 [00:00<00:00, 3846.64it/s]\n",
      "100%|██████████| 50/50 [00:00<00:00, 5264.86it/s]\n",
      "100%|██████████| 50/50 [00:00<00:00, 4166.89it/s]\n",
      "100%|██████████| 50/50 [00:00<00:00, 5000.48it/s]\n",
      "100%|██████████| 50/50 [00:00<00:00, 5000.24it/s]\n",
      "100%|██████████| 50/50 [00:00<00:00, 1149.42it/s]\n",
      "100%|██████████| 50/50 [00:00<00:00, 4545.49it/s]\n",
      "100%|██████████| 50/50 [00:00<00:00, 5555.66it/s]\n",
      "100%|██████████| 50/50 [00:00<00:00, 4545.88it/s]\n",
      "100%|██████████| 50/50 [00:00<00:00, 3846.50it/s]\n",
      "100%|██████████| 50/50 [00:00<00:00, 4762.47it/s]\n",
      "100%|██████████| 50/50 [00:00<00:00, 4762.25it/s]\n",
      "100%|██████████| 50/50 [00:00<00:00, 5555.52it/s]\n",
      "100%|██████████| 50/50 [00:00<00:00, 5263.54it/s]\n",
      "100%|██████████| 50/50 [00:00<00:00, 4165.15it/s]\n",
      "100%|██████████| 50/50 [00:00<00:00, 5263.80it/s]\n",
      "100%|██████████| 50/50 [00:00<00:00, 4546.47it/s]\n",
      "100%|██████████| 50/50 [00:00<00:00, 5000.96it/s]\n",
      "100%|██████████| 50/50 [00:00<00:00, 4762.36it/s]\n"
     ]
    },
    {
     "name": "stdout",
     "output_type": "stream",
     "text": [
      "0.015578535717376132\n",
      "########## The iteration 1000, up to now total 36306 clicks, GC=0.0156, this cycle used 0.57 s) ##########\n",
      "Update bs to 4356\n"
     ]
    },
    {
     "name": "stderr",
     "output_type": "stream",
     "text": [
      "100%|██████████| 20/20 [00:09<00:00,  2.01it/s]\n"
     ]
    },
    {
     "name": "stdout",
     "output_type": "stream",
     "text": [
      "\n",
      "****************************** Epoch 18 ******************************\n"
     ]
    },
    {
     "name": "stderr",
     "output_type": "stream",
     "text": [
      "100%|██████████| 50/50 [00:00<00:00, 5883.27it/s]\n",
      "100%|██████████| 50/50 [00:00<00:00, 5000.72it/s]\n",
      "100%|██████████| 50/50 [00:00<00:00, 3704.36it/s]\n",
      "100%|██████████| 50/50 [00:00<00:00, 3571.08it/s]\n",
      "100%|██████████| 50/50 [00:00<00:00, 5263.80it/s]\n",
      "100%|██████████| 50/50 [00:00<00:00, 4168.05it/s]\n",
      "100%|██████████| 50/50 [00:00<00:00, 4762.47it/s]\n",
      "100%|██████████| 50/50 [00:00<00:00, 4167.13it/s]\n",
      "100%|██████████| 50/50 [00:00<00:00, 5262.88it/s]\n",
      "100%|██████████| 50/50 [00:00<00:00, 5557.43it/s]\n",
      "100%|██████████| 50/50 [00:00<00:00, 3846.43it/s]\n",
      "100%|██████████| 50/50 [00:00<00:00, 4001.21it/s]\n",
      "100%|██████████| 50/50 [00:00<00:00, 5884.26it/s]\n",
      "100%|██████████| 50/50 [00:00<00:00, 4000.60it/s]\n",
      "100%|██████████| 50/50 [00:00<00:00, 5556.84it/s]\n",
      "100%|██████████| 50/50 [00:00<00:00, 5263.41it/s]\n",
      "100%|██████████| 50/50 [00:00<00:00, 3999.37it/s]\n",
      "100%|██████████| 50/50 [00:00<00:00, 4000.21it/s]\n",
      "100%|██████████| 50/50 [00:00<00:00, 4545.39it/s]\n",
      "100%|██████████| 50/50 [00:00<00:00, 4167.47it/s]\n"
     ]
    },
    {
     "name": "stdout",
     "output_type": "stream",
     "text": [
      "0.015281329118221505\n",
      "########## The iteration 1000, up to now total 37646 clicks, GC=0.0153, this cycle used 0.55 s) ##########\n",
      "Update bs to 4517\n"
     ]
    },
    {
     "name": "stderr",
     "output_type": "stream",
     "text": [
      "100%|██████████| 20/20 [00:10<00:00,  1.98it/s]\n"
     ]
    },
    {
     "name": "stdout",
     "output_type": "stream",
     "text": [
      "\n",
      "****************************** Epoch 19 ******************************\n"
     ]
    },
    {
     "name": "stderr",
     "output_type": "stream",
     "text": [
      "100%|██████████| 50/50 [00:00<00:00, 4546.18it/s]\n",
      "100%|██████████| 50/50 [00:00<00:00, 3846.93it/s]\n",
      "100%|██████████| 50/50 [00:00<00:00, 5556.55it/s]\n",
      "100%|██████████| 50/50 [00:00<00:00, 5263.54it/s]\n",
      "100%|██████████| 50/50 [00:00<00:00, 6252.32it/s]\n",
      "100%|██████████| 50/50 [00:00<00:00, 5001.08it/s]\n",
      "100%|██████████| 50/50 [00:00<00:00, 5000.96it/s]\n",
      "100%|██████████| 50/50 [00:00<00:00, 4167.63it/s]\n",
      "100%|██████████| 50/50 [00:00<00:00, 4166.80it/s]\n",
      "100%|██████████| 50/50 [00:00<00:00, 3571.69it/s]\n",
      "100%|██████████| 50/50 [00:00<00:00, 5883.27it/s]\n",
      "100%|██████████| 50/50 [00:00<00:00, 4763.55it/s]\n",
      "100%|██████████| 50/50 [00:00<00:00, 5882.61it/s]\n",
      "100%|██████████| 50/50 [00:00<00:00, 3846.86it/s]\n",
      "100%|██████████| 50/50 [00:00<00:00, 4546.47it/s]\n",
      "100%|██████████| 50/50 [00:00<00:00, 4000.52it/s]\n",
      "100%|██████████| 50/50 [00:00<00:00, 4348.41it/s]\n",
      "100%|██████████| 50/50 [00:00<00:00, 4348.77it/s]\n",
      "100%|██████████| 50/50 [00:00<00:00, 4762.47it/s]\n",
      "100%|██████████| 50/50 [00:00<00:00, 3846.43it/s]\n"
     ]
    },
    {
     "name": "stdout",
     "output_type": "stream",
     "text": [
      "0.014938943352944807\n",
      "########## The iteration 1000, up to now total 38975 clicks, GC=0.0149, this cycle used 0.53 s) ##########\n",
      "Update bs to 4677\n"
     ]
    },
    {
     "name": "stderr",
     "output_type": "stream",
     "text": [
      "100%|██████████| 20/20 [00:10<00:00,  1.92it/s]"
     ]
    },
    {
     "name": "stdout",
     "output_type": "stream",
     "text": [
      "\n"
     ]
    },
    {
     "name": "stderr",
     "output_type": "stream",
     "text": [
      "\n"
     ]
    }
   ],
   "source": [
    "# Initialize a list to store Gini coefficients after each epoch\n",
    "gini_coefficients = []\n",
    "\n",
    "# Run the experiment for a specified number of runs\n",
    "for r in range(args.run):\n",
    "    print('')\n",
    "    print('#' * 100)\n",
    "    print('#' * 100)\n",
    "    print(' ' * 50 + ' Experiment run ' + str(r + 1) + ' ' * 50)\n",
    "    print('#' * 100)\n",
    "    print('#' * 100)\n",
    "\n",
    "    # Initialize the simulation with provided arguments and data\n",
    "    simulation = Simulation(args, truth, truth_like)\n",
    "    init_popularity = simulation.initial_iterations()  # Perform initial iterations to gather feedback\n",
    "    gini_coefficients.append(simulation.run_simulation())  # Run the main simulation"
   ]
  },
  {
   "cell_type": "code",
   "execution_count": 10,
   "metadata": {},
   "outputs": [
    {
     "name": "stdout",
     "output_type": "stream",
     "text": [
      "Gini Coefficients: \n",
      "[0.03250587 0.03131635 0.02960097 0.02851024 0.02706104 0.02559854\n",
      " 0.02453695 0.02337945 0.02201321 0.02097622 0.02025143 0.01913501\n",
      " 0.01864073 0.01791246 0.01752912 0.01646363 0.01572271 0.01557854\n",
      " 0.01528133 0.01493894]\n"
     ]
    },
    {
     "data": {
      "image/png": "[encoded data removed]",
      "text/plain": [
       "<Figure size 1000x600 with 1 Axes>"
      ]
     },
     "metadata": {},
     "output_type": "display_data"
    }
   ],
   "source": [
    "# Calculate the average of each corresponding element across lists\n",
    "average_gini_coefficients = np.mean(np.array(gini_coefficients), axis=0)\n",
    "print(\"Gini Coefficients: \\n\" + str(average_gini_coefficients))\n",
    "\n",
    "# Visualize the averaged Gini coefficients\n",
    "plt.figure(figsize=(10, 6))\n",
    "x_values = range(len(average_gini_coefficients))\n",
    "plt.plot(x_values, average_gini_coefficients, marker='o', linestyle='-', color='b')\n",
    "plt.title('Average Gini Coefficients Over Epochs')\n",
    "plt.xlabel('Epoch')\n",
    "plt.ylabel('Average Gini Coefficient')\n",
    "plt.grid(True)\n",
    "plt.show()"
   ]
  }
 ],
 "metadata": {
  "kernelspec": {
   "display_name": "Python 3",
   "language": "python",
   "name": "python3"
  },
  "language_info": {
   "codemirror_mode": {
    "name": "ipython",
    "version": 3
   },
   "file_extension": ".py",
   "mimetype": "text/x-python",
   "name": "python",
   "nbconvert_exporter": "python",
   "pygments_lexer": "ipython3",
   "version": "3.7.16"
  }
 },
 "nbformat": 4,
 "nbformat_minor": 4
}
