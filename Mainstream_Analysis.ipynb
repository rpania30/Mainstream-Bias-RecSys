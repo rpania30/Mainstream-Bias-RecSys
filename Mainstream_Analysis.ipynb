{
 "cells": [
  {
   "cell_type": "markdown",
   "metadata": {},
   "source": [
    "Mainstream Bias in Dynamic Recommendation"
   ]
  },
  {
   "cell_type": "code",
   "execution_count": 2,
   "metadata": {},
   "outputs": [],
   "source": [
    "# Import dependencies\n",
    "import os\n",
    "os.environ['TF_CPP_MIN_LOG_LEVEL'] = '3'  # Suppress TensorFlow logs\n",
    "import warnings; warnings.simplefilter('ignore')  # Ignore warnings for cleaner output\n",
    "# import time\n",
    "import numpy as np\n",
    "import argparse\n",
    "# import utility\n",
    "from Simulation_basic import Simulation\n",
    "import pickle\n",
    "import pandas as pd\n",
    "# from tqdm import tqdm\n",
    "from math import log\n",
    "from scipy.sparse import coo_matrix\n",
    "# import seaborn as sns\n",
    "import matplotlib.pyplot as plt\n",
    "# from scipy.stats import skew\n",
    "# from scipy.stats import mode\n",
    "# from sklearn.neighbors import LocalOutlierFactor"
   ]
  },
  {
   "cell_type": "code",
   "execution_count": 3,
   "metadata": {},
   "outputs": [],
   "source": [
    "# Parse command-line arguments\n",
    "# args = parser.parse_args()\n",
    "\n",
    "# Define the default values for arguments\n",
    "default_args = {\n",
    "    'run': 1,\n",
    "    'iteration': 1000,\n",
    "    'exp': 1,\n",
    "    'cycle_itr': 50,\n",
    "    'epoch': 20,\n",
    "    'K': 20,\n",
    "    'lr': 0.001,\n",
    "    'reg': 1e-5,\n",
    "    'hidden': 100,\n",
    "    'neg': 5,\n",
    "    'data': 'ml1m'\n",
    "}\n",
    "\n",
    "# Create the args object with default values\n",
    "args = argparse.Namespace(**default_args)"
   ]
  },
  {
   "cell_type": "code",
   "execution_count": 4,
   "metadata": {},
   "outputs": [
    {
     "name": "stdout",
     "output_type": "stream",
     "text": [
      "\n",
      "!!!!!!!!!!!!!!!!!!!!!!!!!!!!!! Total truth 223869.0 !!!!!!!!!!!!!!!!!!!!!!!!!!!!!!\n",
      "\n"
     ]
    }
   ],
   "source": [
    "# Load truth data and set experiment parameters\n",
    "truth = np.load('./Data/' + args.data + '/truth.npy')\n",
    "args.num_user = truth.shape[0]\n",
    "args.num_item = truth.shape[1]\n",
    "audience_size = np.sum(truth, axis=0)\n",
    "item_sorted = np.argsort(audience_size)\n",
    "truth_like = list(np.load('./Data/' + args.data + '/user_truth_like.npy', allow_pickle=True))\n",
    "\n",
    "# Print total truth for reference\n",
    "print('')\n",
    "print('!' * 30 + ' Total truth ' + str(np.sum(truth)) + ' ' + '!' * 30)\n",
    "print('')"
   ]
  },
  {
   "cell_type": "code",
   "execution_count": 5,
   "metadata": {},
   "outputs": [],
   "source": [
    "# Calculate mainstream scores (MS_similarity) using your code\n",
    "with open('./Data/' + args.data + '/info.pkl', 'rb') as f:\n",
    "    info = pickle.load(f)\n",
    "    num_user = info['num_user']\n",
    "    num_item = info['num_item']\n",
    "\n",
    "train_df = pd.read_csv('./Data/' + args.data + '/train_df.csv')\n",
    "\n",
    "# Calculate user popularity\n",
    "pos_user_array = train_df['userId'].values\n",
    "pos_item_array = train_df['itemId'].values\n",
    "train_mat = coo_matrix((np.ones(len(pos_user_array)), (pos_user_array, pos_item_array)), shape=(num_user, num_item)).toarray()\n",
    "user_pop = np.sum(train_mat, axis=1)\n",
    "\n",
    "# Calculate standard deviation of user interactions\n",
    "user_stddev = np.std(train_mat, axis=1)\n",
    "\n",
    "# Save the user standard deviations to a file (adjust the path accordingly)\n",
    "with open(f'./Data/{args.data}/user_stddev.npy', \"wb\") as f:\n",
    "    np.save(f, user_stddev)\n",
    "\n",
    "# Calculate Jaccard similarity matrix\n",
    "Jaccard_mat = np.matmul(train_mat, train_mat.T)\n",
    "deno = user_pop.reshape((-1, 1)) + user_pop.reshape((1, -1)) - Jaccard_mat + 1e-7\n",
    "Jaccard_mat /= deno\n",
    "Jaccard_mat = Jaccard_mat + np.eye(num_user) * -9999\n",
    "Jaccard_mat = Jaccard_mat[np.where(Jaccard_mat > -1)].reshape((num_user, num_user - 1))\n",
    "\n",
    "# Calculate Mainstream Similarity (MS_similarity) by taking the mean along axis 1\n",
    "MS_similarity = np.mean(Jaccard_mat, axis=1)\n",
    "\n",
    "# Save the MS similarity to a file (adjust the path accordingly)\n",
    "with open(f'./Data/{args.data}/MS_similarity.npy', \"wb\") as f:\n",
    "    np.save(f, MS_similarity)"
   ]
  },
  {
   "cell_type": "code",
   "execution_count": 7,
   "metadata": {},
   "outputs": [
    {
     "name": "stdout",
     "output_type": "stream",
     "text": [
      "\n",
      "####################################################################################################\n",
      "####################################################################################################\n",
      "                                                   Experiment run 1                                                  \n",
      "####################################################################################################\n",
      "####################################################################################################\n",
      "Namespace(K=20, cycle_itr=50, data='ml1m', epoch=20, exp=1, hidden=100, iteration=1000, lr=0.001, neg=5, num_item=3406, num_user=1000, reg=1e-05, run=1)\n",
      "****************************** Start initial random iterations ******************************\n",
      "---------- Iteration 1 ----------\n"
     ]
    },
    {
     "name": "stderr",
     "output_type": "stream",
     "text": [
      "  0%|          | 0/1000 [00:00<?, ?it/s]"
     ]
    },
    {
     "name": "stderr",
     "output_type": "stream",
     "text": [
      "100%|██████████| 1000/1000 [00:00<00:00, 5952.46it/s]"
     ]
    },
    {
     "name": "stdout",
     "output_type": "stream",
     "text": [
      "!!!!!!!!!!!!!!!!!!!!!!!!!!!!!!!!!!!!!!!!!!!!!!!!!!!!!!!!!!!!!!!!!!!!!!!!!!!!!!!!!!!!!!!!!!!!!!!!!!!!\n",
      "Generate 484 records.\n",
      "!!!!!!!!!!!!!!!!!!!!!!!!!!!!!!!!!!!!!!!!!!!!!!!!!!!!!!!!!!!!!!!!!!!!!!!!!!!!!!!!!!!!!!!!!!!!!!!!!!!!\n",
      "****************************** Train MF until converge ******************************\n",
      "Update bs to 58\n"
     ]
    },
    {
     "name": "stderr",
     "output_type": "stream",
     "text": [
      "\n"
     ]
    },
    {
     "name": "stdout",
     "output_type": "stream",
     "text": [
      "******************************MF initialization done ******************************\n"
     ]
    },
    {
     "name": "stderr",
     "output_type": "stream",
     "text": [
      "100%|██████████| 50/50 [00:00<00:00, 113.90it/s]\n"
     ]
    },
    {
     "name": "stdout",
     "output_type": "stream",
     "text": [
      "Training // Epoch 0 //  Total cost = 34.6800  Total cost1 = 34.6394  Total cost2 = 0.0405\n"
     ]
    },
    {
     "name": "stderr",
     "output_type": "stream",
     "text": [
      "100%|██████████| 50/50 [00:00<00:00, 146.84it/s]\n"
     ]
    },
    {
     "name": "stdout",
     "output_type": "stream",
     "text": [
      "Training // Epoch 1 //  Total cost = 34.3144  Total cost1 = 34.2866  Total cost2 = 0.0277\n"
     ]
    },
    {
     "name": "stderr",
     "output_type": "stream",
     "text": [
      "100%|██████████| 50/50 [00:00<00:00, 160.77it/s]\n"
     ]
    },
    {
     "name": "stdout",
     "output_type": "stream",
     "text": [
      "Training // Epoch 2 //  Total cost = 33.8065  Total cost1 = 33.7711  Total cost2 = 0.0354\n"
     ]
    },
    {
     "name": "stderr",
     "output_type": "stream",
     "text": [
      "100%|██████████| 50/50 [00:00<00:00, 161.29it/s]\n"
     ]
    },
    {
     "name": "stdout",
     "output_type": "stream",
     "text": [
      "Training // Epoch 3 //  Total cost = 32.9997  Total cost1 = 32.9504  Total cost2 = 0.0493\n"
     ]
    },
    {
     "name": "stderr",
     "output_type": "stream",
     "text": [
      "100%|██████████| 50/50 [00:00<00:00, 156.49it/s]\n"
     ]
    },
    {
     "name": "stdout",
     "output_type": "stream",
     "text": [
      "Training // Epoch 4 //  Total cost = 31.7612  Total cost1 = 31.6920  Total cost2 = 0.0692\n"
     ]
    },
    {
     "name": "stderr",
     "output_type": "stream",
     "text": [
      "100%|██████████| 50/50 [00:00<00:00, 163.67it/s]\n"
     ]
    },
    {
     "name": "stdout",
     "output_type": "stream",
     "text": [
      "Training // Epoch 5 //  Total cost = 29.9883  Total cost1 = 29.8916  Total cost2 = 0.0967\n"
     ]
    },
    {
     "name": "stderr",
     "output_type": "stream",
     "text": [
      "100%|██████████| 50/50 [00:00<00:00, 160.00it/s]\n"
     ]
    },
    {
     "name": "stdout",
     "output_type": "stream",
     "text": [
      "Training // Epoch 6 //  Total cost = 27.6829  Total cost1 = 27.5503  Total cost2 = 0.1327\n"
     ]
    },
    {
     "name": "stderr",
     "output_type": "stream",
     "text": [
      "100%|██████████| 50/50 [00:00<00:00, 158.48it/s]\n"
     ]
    },
    {
     "name": "stdout",
     "output_type": "stream",
     "text": [
      "Training // Epoch 7 //  Total cost = 24.7509  Total cost1 = 24.5759  Total cost2 = 0.1750\n"
     ]
    },
    {
     "name": "stderr",
     "output_type": "stream",
     "text": [
      "100%|██████████| 50/50 [00:00<00:00, 152.44it/s]\n"
     ]
    },
    {
     "name": "stdout",
     "output_type": "stream",
     "text": [
      "Training // Epoch 8 //  Total cost = 21.1925  Total cost1 = 20.9652  Total cost2 = 0.2274\n"
     ]
    },
    {
     "name": "stderr",
     "output_type": "stream",
     "text": [
      "100%|██████████| 50/50 [00:00<00:00, 147.71it/s]\n"
     ]
    },
    {
     "name": "stdout",
     "output_type": "stream",
     "text": [
      "Training // Epoch 9 //  Total cost = 17.1571  Total cost1 = 16.8694  Total cost2 = 0.2877\n"
     ]
    },
    {
     "name": "stderr",
     "output_type": "stream",
     "text": [
      "100%|██████████| 50/50 [00:00<00:00, 165.84it/s]\n"
     ]
    },
    {
     "name": "stdout",
     "output_type": "stream",
     "text": [
      "Training // Epoch 10 //  Total cost = 12.6105  Total cost1 = 12.2552  Total cost2 = 0.3553\n"
     ]
    },
    {
     "name": "stderr",
     "output_type": "stream",
     "text": [
      "100%|██████████| 50/50 [00:00<00:00, 149.25it/s]\n"
     ]
    },
    {
     "name": "stdout",
     "output_type": "stream",
     "text": [
      "Training // Epoch 11 //  Total cost = 7.7291  Total cost1 = 7.2990  Total cost2 = 0.4301\n"
     ]
    },
    {
     "name": "stderr",
     "output_type": "stream",
     "text": [
      "100%|██████████| 50/50 [00:00<00:00, 157.73it/s]\n"
     ]
    },
    {
     "name": "stdout",
     "output_type": "stream",
     "text": [
      "Training // Epoch 12 //  Total cost = 2.3168  Total cost1 = 1.8036  Total cost2 = 0.5132\n"
     ]
    },
    {
     "name": "stderr",
     "output_type": "stream",
     "text": [
      "100%|██████████| 50/50 [00:00<00:00, 159.75it/s]\n"
     ]
    },
    {
     "name": "stdout",
     "output_type": "stream",
     "text": [
      "Training // Epoch 13 //  Total cost = -3.4213  Total cost1 = -4.0226  Total cost2 = 0.6013\n"
     ]
    },
    {
     "name": "stderr",
     "output_type": "stream",
     "text": [
      "100%|██████████| 50/50 [00:00<00:00, 145.56it/s]\n"
     ]
    },
    {
     "name": "stdout",
     "output_type": "stream",
     "text": [
      "Training // Epoch 14 //  Total cost = -9.8438  Total cost1 = -10.5423  Total cost2 = 0.6984\n"
     ]
    },
    {
     "name": "stderr",
     "output_type": "stream",
     "text": [
      "100%|██████████| 50/50 [00:00<00:00, 155.52it/s]\n"
     ]
    },
    {
     "name": "stdout",
     "output_type": "stream",
     "text": [
      "Training // Epoch 15 //  Total cost = -16.4409  Total cost1 = -17.2440  Total cost2 = 0.8030\n"
     ]
    },
    {
     "name": "stderr",
     "output_type": "stream",
     "text": [
      "100%|██████████| 50/50 [00:00<00:00, 158.73it/s]\n"
     ]
    },
    {
     "name": "stdout",
     "output_type": "stream",
     "text": [
      "Training // Epoch 16 //  Total cost = -23.1918  Total cost1 = -24.1047  Total cost2 = 0.9129\n"
     ]
    },
    {
     "name": "stderr",
     "output_type": "stream",
     "text": [
      "100%|██████████| 50/50 [00:00<00:00, 155.76it/s]\n"
     ]
    },
    {
     "name": "stdout",
     "output_type": "stream",
     "text": [
      "Training // Epoch 17 //  Total cost = -30.5370  Total cost1 = -31.5677  Total cost2 = 1.0307\n"
     ]
    },
    {
     "name": "stderr",
     "output_type": "stream",
     "text": [
      "100%|██████████| 50/50 [00:00<00:00, 161.81it/s]\n"
     ]
    },
    {
     "name": "stdout",
     "output_type": "stream",
     "text": [
      "Training // Epoch 18 //  Total cost = -38.3316  Total cost1 = -39.4842  Total cost2 = 1.1526\n"
     ]
    },
    {
     "name": "stderr",
     "output_type": "stream",
     "text": [
      "100%|██████████| 50/50 [00:00<00:00, 161.29it/s]\n"
     ]
    },
    {
     "name": "stdout",
     "output_type": "stream",
     "text": [
      "Training // Epoch 19 //  Total cost = -46.0649  Total cost1 = -47.3458  Total cost2 = 1.2809\n",
      "****************************** Start simulation ******************************\n",
      "****************************** Epoch 0 ******************************\n"
     ]
    },
    {
     "name": "stderr",
     "output_type": "stream",
     "text": [
      "100%|██████████| 50/50 [00:00<00:00, 4166.47it/s]\n",
      "100%|██████████| 50/50 [00:00<00:00, 3030.04it/s]\n",
      "100%|██████████| 50/50 [00:00<00:00, 4166.22it/s]\n",
      "100%|██████████| 50/50 [00:00<00:00, 3030.65it/s]\n",
      "100%|██████████| 50/50 [00:00<00:00, 2631.47it/s]\n",
      "100%|██████████| 50/50 [00:00<00:00, 2856.84it/s]\n",
      "100%|██████████| 50/50 [00:00<00:00, 3334.26it/s]\n",
      "100%|██████████| 50/50 [00:00<00:00, 3333.47it/s]\n",
      "100%|██████████| 50/50 [00:00<00:00, 3226.14it/s]\n",
      "100%|██████████| 50/50 [00:00<00:00, 3333.15it/s]\n",
      "100%|██████████| 50/50 [00:00<00:00, 4166.89it/s]\n",
      "100%|██████████| 50/50 [00:00<00:00, 4762.90it/s]\n",
      "100%|██████████| 50/50 [00:00<00:00, 4347.87it/s]\n",
      "100%|██████████| 50/50 [00:00<00:00, 3333.36it/s]\n",
      "100%|██████████| 50/50 [00:00<00:00, 4166.80it/s]\n",
      "100%|██████████| 50/50 [00:00<00:00, 3571.38it/s]\n",
      "100%|██████████| 50/50 [00:00<00:00, 3448.58it/s]\n",
      "100%|██████████| 50/50 [00:00<00:00, 4167.30it/s]\n",
      "100%|██████████| 50/50 [00:00<00:00, 3448.47it/s]\n",
      "100%|██████████| 50/50 [00:00<00:00, 3571.08it/s]\n"
     ]
    },
    {
     "ename": "IndexError",
     "evalue": "index 2678 is out of bounds for axis 0 with size 1000",
     "output_type": "error",
     "traceback": [
      "\u001b[1;31m---------------------------------------------------------------------------\u001b[0m",
      "\u001b[1;31mIndexError\u001b[0m                                Traceback (most recent call last)",
      "\u001b[1;32m~\\AppData\\Local\\Temp\\ipykernel_14476\\1424224830.py\u001b[0m in \u001b[0;36m<module>\u001b[1;34m\u001b[0m\n\u001b[0;32m     14\u001b[0m     \u001b[0msimulation\u001b[0m \u001b[1;33m=\u001b[0m \u001b[0mSimulation\u001b[0m\u001b[1;33m(\u001b[0m\u001b[0margs\u001b[0m\u001b[1;33m,\u001b[0m \u001b[0mtruth\u001b[0m\u001b[1;33m,\u001b[0m \u001b[0mtruth_like\u001b[0m\u001b[1;33m)\u001b[0m\u001b[1;33m\u001b[0m\u001b[1;33m\u001b[0m\u001b[0m\n\u001b[0;32m     15\u001b[0m     \u001b[0minit_popularity\u001b[0m \u001b[1;33m=\u001b[0m \u001b[0msimulation\u001b[0m\u001b[1;33m.\u001b[0m\u001b[0minitial_iterations\u001b[0m\u001b[1;33m(\u001b[0m\u001b[1;33m)\u001b[0m  \u001b[1;31m# Perform initial iterations to gather feedback\u001b[0m\u001b[1;33m\u001b[0m\u001b[1;33m\u001b[0m\u001b[0m\n\u001b[1;32m---> 16\u001b[1;33m     \u001b[0mgini_coefficients\u001b[0m\u001b[1;33m.\u001b[0m\u001b[0mappend\u001b[0m\u001b[1;33m(\u001b[0m\u001b[0msimulation\u001b[0m\u001b[1;33m.\u001b[0m\u001b[0mrun_simulation\u001b[0m\u001b[1;33m(\u001b[0m\u001b[1;33m)\u001b[0m\u001b[1;33m)\u001b[0m  \u001b[1;31m# Run the main simulation\u001b[0m\u001b[1;33m\u001b[0m\u001b[1;33m\u001b[0m\u001b[0m\n\u001b[0m",
      "\u001b[1;32mc:\\Users\\Owner\\Downloads\\ML\\Popularity-Bias-in-Dynamic-Recommendation\\Simulation_basic.py\u001b[0m in \u001b[0;36mrun_simulation\u001b[1;34m(self)\u001b[0m\n\u001b[0;32m    193\u001b[0m \u001b[1;33m\u001b[0m\u001b[0m\n\u001b[0;32m    194\u001b[0m             \u001b[1;31m# Calculate Gini coefficient for this epoch\u001b[0m\u001b[1;33m\u001b[0m\u001b[1;33m\u001b[0m\u001b[1;33m\u001b[0m\u001b[0m\n\u001b[1;32m--> 195\u001b[1;33m             \u001b[0ma\u001b[0m \u001b[1;33m=\u001b[0m \u001b[0muser_TPR\u001b[0m\u001b[1;33m[\u001b[0m\u001b[0msorted_indices\u001b[0m\u001b[1;33m]\u001b[0m \u001b[1;31m# sort recall list based on UID of mainstream scores\u001b[0m\u001b[1;33m\u001b[0m\u001b[1;33m\u001b[0m\u001b[0m\n\u001b[0m\u001b[0;32m    196\u001b[0m             \u001b[0mgc\u001b[0m \u001b[1;33m=\u001b[0m \u001b[0mnp\u001b[0m\u001b[1;33m.\u001b[0m\u001b[0msum\u001b[0m\u001b[1;33m(\u001b[0m\u001b[1;33m(\u001b[0m\u001b[1;33m(\u001b[0m\u001b[0mnp\u001b[0m\u001b[1;33m.\u001b[0m\u001b[0marange\u001b[0m\u001b[1;33m(\u001b[0m\u001b[0mlen\u001b[0m\u001b[1;33m(\u001b[0m\u001b[0ma\u001b[0m\u001b[1;33m)\u001b[0m\u001b[1;33m)\u001b[0m \u001b[1;33m+\u001b[0m \u001b[1;36m1.\u001b[0m\u001b[1;33m)\u001b[0m \u001b[1;33m*\u001b[0m \u001b[1;36m2\u001b[0m \u001b[1;33m-\u001b[0m \u001b[0mlen\u001b[0m\u001b[1;33m(\u001b[0m\u001b[0ma\u001b[0m\u001b[1;33m)\u001b[0m \u001b[1;33m-\u001b[0m \u001b[1;36m1\u001b[0m\u001b[1;33m)\u001b[0m \u001b[1;33m*\u001b[0m \u001b[0ma\u001b[0m\u001b[1;33m)\u001b[0m \u001b[1;33m/\u001b[0m \u001b[1;33m(\u001b[0m\u001b[0mlen\u001b[0m\u001b[1;33m(\u001b[0m\u001b[0ma\u001b[0m\u001b[1;33m)\u001b[0m \u001b[1;33m*\u001b[0m \u001b[0mnp\u001b[0m\u001b[1;33m.\u001b[0m\u001b[0msum\u001b[0m\u001b[1;33m(\u001b[0m\u001b[0ma\u001b[0m\u001b[1;33m)\u001b[0m\u001b[1;33m)\u001b[0m\u001b[1;33m\u001b[0m\u001b[1;33m\u001b[0m\u001b[0m\n\u001b[0;32m    197\u001b[0m \u001b[1;33m\u001b[0m\u001b[0m\n",
      "\u001b[1;31mIndexError\u001b[0m: index 2678 is out of bounds for axis 0 with size 1000"
     ]
    }
   ],
   "source": [
    "# Initialize a list to store Gini coefficients after each epoch\n",
    "gini_coefficients = []\n",
    "\n",
    "# Run the experiment for a specified number of runs\n",
    "for r in range(args.run):\n",
    "    print('')\n",
    "    print('#' * 100)\n",
    "    print('#' * 100)\n",
    "    print(' ' * 50 + ' Experiment run ' + str(r + 1) + ' ' * 50)\n",
    "    print('#' * 100)\n",
    "    print('#' * 100)\n",
    "\n",
    "    # Initialize the simulation with provided arguments and data\n",
    "    simulation = Simulation(args, truth, truth_like)\n",
    "    init_popularity = simulation.initial_iterations()  # Perform initial iterations to gather feedback\n",
    "    gini_coefficients.append(simulation.run_simulation())  # Run the main simulation"
   ]
  },
  {
   "cell_type": "code",
   "execution_count": null,
   "metadata": {},
   "outputs": [
    {
     "name": "stdout",
     "output_type": "stream",
     "text": [
      "[]\n"
     ]
    },
    {
     "ename": "TypeError",
     "evalue": "object of type 'numpy.float64' has no len()",
     "output_type": "error",
     "traceback": [
      "\u001b[1;31m---------------------------------------------------------------------------\u001b[0m",
      "\u001b[1;31mTypeError\u001b[0m                                 Traceback (most recent call last)",
      "\u001b[1;32m~\\AppData\\Local\\Temp\\ipykernel_16060\\2288926882.py\u001b[0m in \u001b[0;36m<module>\u001b[1;34m\u001b[0m\n\u001b[0;32m      5\u001b[0m \u001b[1;31m# Visualize the averaged Gini coefficients\u001b[0m\u001b[1;33m\u001b[0m\u001b[1;33m\u001b[0m\u001b[1;33m\u001b[0m\u001b[0m\n\u001b[0;32m      6\u001b[0m \u001b[0mplt\u001b[0m\u001b[1;33m.\u001b[0m\u001b[0mfigure\u001b[0m\u001b[1;33m(\u001b[0m\u001b[0mfigsize\u001b[0m\u001b[1;33m=\u001b[0m\u001b[1;33m(\u001b[0m\u001b[1;36m10\u001b[0m\u001b[1;33m,\u001b[0m \u001b[1;36m6\u001b[0m\u001b[1;33m)\u001b[0m\u001b[1;33m)\u001b[0m\u001b[1;33m\u001b[0m\u001b[1;33m\u001b[0m\u001b[0m\n\u001b[1;32m----> 7\u001b[1;33m \u001b[0mx_values\u001b[0m \u001b[1;33m=\u001b[0m \u001b[0mrange\u001b[0m\u001b[1;33m(\u001b[0m\u001b[0mlen\u001b[0m\u001b[1;33m(\u001b[0m\u001b[0maverage_gini_coefficients\u001b[0m\u001b[1;33m)\u001b[0m\u001b[1;33m)\u001b[0m\u001b[1;33m\u001b[0m\u001b[1;33m\u001b[0m\u001b[0m\n\u001b[0m\u001b[0;32m      8\u001b[0m \u001b[0mplt\u001b[0m\u001b[1;33m.\u001b[0m\u001b[0mplot\u001b[0m\u001b[1;33m(\u001b[0m\u001b[0mx_values\u001b[0m\u001b[1;33m,\u001b[0m \u001b[0maverage_gini_coefficients\u001b[0m\u001b[1;33m,\u001b[0m \u001b[0mmarker\u001b[0m\u001b[1;33m=\u001b[0m\u001b[1;34m'o'\u001b[0m\u001b[1;33m,\u001b[0m \u001b[0mlinestyle\u001b[0m\u001b[1;33m=\u001b[0m\u001b[1;34m'-'\u001b[0m\u001b[1;33m,\u001b[0m \u001b[0mcolor\u001b[0m\u001b[1;33m=\u001b[0m\u001b[1;34m'b'\u001b[0m\u001b[1;33m)\u001b[0m\u001b[1;33m\u001b[0m\u001b[1;33m\u001b[0m\u001b[0m\n\u001b[0;32m      9\u001b[0m \u001b[0mplt\u001b[0m\u001b[1;33m.\u001b[0m\u001b[0mtitle\u001b[0m\u001b[1;33m(\u001b[0m\u001b[1;34m'Average Gini Coefficients Over Epochs'\u001b[0m\u001b[1;33m)\u001b[0m\u001b[1;33m\u001b[0m\u001b[1;33m\u001b[0m\u001b[0m\n",
      "\u001b[1;31mTypeError\u001b[0m: object of type 'numpy.float64' has no len()"
     ]
    },
    {
     "data": {
      "text/plain": [
       "<Figure size 1000x600 with 0 Axes>"
      ]
     },
     "metadata": {},
     "output_type": "display_data"
    }
   ],
   "source": [
    "# Calculate the average of each corresponding element across lists\n",
    "print(gini_coefficients)\n",
    "average_gini_coefficients = np.mean(np.array(gini_coefficients), axis=0)\n",
    "\n",
    "# Visualize the averaged Gini coefficients\n",
    "plt.figure(figsize=(10, 6))\n",
    "x_values = range(len(average_gini_coefficients))\n",
    "plt.plot(x_values, average_gini_coefficients, marker='o', linestyle='-', color='b')\n",
    "plt.title('Average Gini Coefficients Over Epochs')\n",
    "plt.xlabel('Epoch')\n",
    "plt.ylabel('Average Gini Coefficient')\n",
    "plt.grid(True)\n",
    "print(average_gini_coefficients)\n",
    "plt.show()"
   ]
  }
 ],
 "metadata": {
  "kernelspec": {
   "display_name": "Python 3",
   "language": "python",
   "name": "python3"
  },
  "language_info": {
   "codemirror_mode": {
    "name": "ipython",
    "version": 3
   },
   "file_extension": ".py",
   "mimetype": "text/x-python",
   "name": "python",
   "nbconvert_exporter": "python",
   "pygments_lexer": "ipython3",
   "version": "3.7.16"
  }
 },
 "nbformat": 4,
 "nbformat_minor": 4
}
